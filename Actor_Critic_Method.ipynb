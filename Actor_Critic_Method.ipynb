{
  "nbformat": 4,
  "nbformat_minor": 0,
  "metadata": {
    "colab": {
      "name": "Actor Critic Method.ipynb",
      "provenance": [],
      "collapsed_sections": []
    },
    "kernelspec": {
      "name": "python3",
      "display_name": "Python 3"
    },
    "language_info": {
      "name": "python"
    }
  },
  "cells": [
    {
      "cell_type": "markdown",
      "source": [
        "\n",
        "\n",
        "1.   https://gym.openai.com/docs/\n",
        "2.   List item\n",
        "3.   List item\n",
        "4.   List item\n",
        "\n",
        "\n",
        "\n"
      ],
      "metadata": {
        "id": "_QV9IxuINJnQ"
      }
    },
    {
      "cell_type": "code",
      "execution_count": 1,
      "metadata": {
        "colab": {
          "base_uri": "https://localhost:8080/"
        },
        "id": "1quPgeYeM1iF",
        "outputId": "d13954c1-43a5-4c46-b29a-558a91e5dc8b"
      },
      "outputs": [
        {
          "output_type": "stream",
          "name": "stdout",
          "text": [
            "Requirement already satisfied: gym in /usr/local/lib/python3.7/dist-packages (0.17.3)\n",
            "Requirement already satisfied: numpy>=1.10.4 in /usr/local/lib/python3.7/dist-packages (from gym) (1.19.5)\n",
            "Requirement already satisfied: scipy in /usr/local/lib/python3.7/dist-packages (from gym) (1.4.1)\n",
            "Requirement already satisfied: cloudpickle<1.7.0,>=1.2.0 in /usr/local/lib/python3.7/dist-packages (from gym) (1.3.0)\n",
            "Requirement already satisfied: pyglet<=1.5.0,>=1.4.0 in /usr/local/lib/python3.7/dist-packages (from gym) (1.5.0)\n",
            "Requirement already satisfied: future in /usr/local/lib/python3.7/dist-packages (from pyglet<=1.5.0,>=1.4.0->gym) (0.16.0)\n",
            "Requirement already satisfied: pyglet in /usr/local/lib/python3.7/dist-packages (1.5.0)\n",
            "Requirement already satisfied: future in /usr/local/lib/python3.7/dist-packages (from pyglet) (0.16.0)\n"
          ]
        }
      ],
      "source": [
        "!pip install gym\n",
        "!pip install pyglet"
      ]
    },
    {
      "cell_type": "code",
      "source": [
        "# Install additional packages for visualization\n",
        "!sudo apt-get install -y xvfb python-opengl > /dev/null 2>&1\n",
        "!pip install pyvirtualdisplay > /dev/null 2>&1\n",
        "!pip install git+https://github.com/tensorflow/docs > /dev/null 2>&1"
      ],
      "metadata": {
        "id": "WM-ylIQyNu8Y"
      },
      "execution_count": 2,
      "outputs": []
    },
    {
      "cell_type": "code",
      "source": [
        "import collections\n",
        "import gym\n",
        "import numpy as np\n",
        "import statistics\n",
        "import tensorflow as tf\n",
        "import tqdm\n",
        "\n",
        "from matplotlib import pyplot as plt\n",
        "from tensorflow.keras import layers\n",
        "from typing import Any, List, Sequence, Tuple\n",
        "\n",
        "\n",
        "# Create the environment\n",
        "env = gym.make(\"CartPole-v0\")\n",
        "\n",
        "# Set seed for experiment reproducibility\n",
        "seed = 42\n",
        "env.seed(seed)\n",
        "tf.random.set_seed(seed)\n",
        "np.random.seed(seed)\n",
        "\n",
        "# Small epsilon value for stabilizing division operations\n",
        "eps = np.finfo(np.float32).eps.item()"
      ],
      "metadata": {
        "id": "IZ6jVZRPN7_1"
      },
      "execution_count": 3,
      "outputs": []
    },
    {
      "cell_type": "code",
      "source": [
        "class ActorCritic(tf.keras.Model):\n",
        "  \"\"\"Combined actor-critic network.\"\"\"\n",
        "\n",
        "  def __init__(\n",
        "      self, \n",
        "      num_actions: int, \n",
        "      num_hidden_units: int):\n",
        "    \"\"\"Initialize.\"\"\"\n",
        "    super().__init__()\n",
        "\n",
        "    self.common = layers.Dense(num_hidden_units, activation=\"relu\")\n",
        "    self.actor = layers.Dense(num_actions)\n",
        "    self.critic = layers.Dense(1)\n",
        "\n",
        "  def call(self, inputs: tf.Tensor) -> Tuple[tf.Tensor, tf.Tensor]:\n",
        "    x = self.common(inputs)\n",
        "    return self.actor(x), self.critic(x)"
      ],
      "metadata": {
        "id": "OaKohWnoOBlz"
      },
      "execution_count": 4,
      "outputs": []
    },
    {
      "cell_type": "code",
      "source": [
        "num_actions = env.action_space.n  # 2\n",
        "num_hidden_units = 128\n",
        "\n",
        "model = ActorCritic(num_actions, num_hidden_units)"
      ],
      "metadata": {
        "id": "apQQUBWwOGsN"
      },
      "execution_count": 5,
      "outputs": []
    },
    {
      "cell_type": "code",
      "source": [
        "# Wrap OpenAI Gym's `env.step` call as an operation in a TensorFlow function.\n",
        "# This would allow it to be included in a callable TensorFlow graph.\n",
        "\n",
        "def env_step(action: np.ndarray) -> Tuple[np.ndarray, np.ndarray, np.ndarray]:\n",
        "  \"\"\"Returns state, reward and done flag given an action.\"\"\"\n",
        "\n",
        "  state, reward, done, _ = env.step(action)\n",
        "  return (state.astype(np.float32), \n",
        "          np.array(reward, np.int32), \n",
        "          np.array(done, np.int32))\n",
        "\n",
        "\n",
        "def tf_env_step(action: tf.Tensor) -> List[tf.Tensor]:\n",
        "  return tf.numpy_function(env_step, [action], \n",
        "                           [tf.float32, tf.int32, tf.int32])"
      ],
      "metadata": {
        "id": "EJuinpg4OItr"
      },
      "execution_count": 6,
      "outputs": []
    },
    {
      "cell_type": "code",
      "source": [
        "def run_episode(\n",
        "    initial_state: tf.Tensor,  \n",
        "    model: tf.keras.Model, \n",
        "    max_steps: int) -> Tuple[tf.Tensor, tf.Tensor, tf.Tensor]:\n",
        "  \"\"\"Runs a single episode to collect training data.\"\"\"\n",
        "\n",
        "  action_probs = tf.TensorArray(dtype=tf.float32, size=0, dynamic_size=True)\n",
        "  values = tf.TensorArray(dtype=tf.float32, size=0, dynamic_size=True)\n",
        "  rewards = tf.TensorArray(dtype=tf.int32, size=0, dynamic_size=True)\n",
        "\n",
        "  initial_state_shape = initial_state.shape\n",
        "  state = initial_state\n",
        "\n",
        "  for t in tf.range(max_steps):\n",
        "    # Convert state into a batched tensor (batch size = 1)\n",
        "    state = tf.expand_dims(state, 0)\n",
        "\n",
        "    # Run the model and to get action probabilities and critic value\n",
        "    action_logits_t, value = model(state)\n",
        "\n",
        "    # Sample next action from the action probability distribution\n",
        "    action = tf.random.categorical(action_logits_t, 1)[0, 0]\n",
        "    action_probs_t = tf.nn.softmax(action_logits_t)\n",
        "\n",
        "    # Store critic values\n",
        "    values = values.write(t, tf.squeeze(value))\n",
        "\n",
        "    # Store log probability of the action chosen\n",
        "    action_probs = action_probs.write(t, action_probs_t[0, action])\n",
        "\n",
        "    # Apply action to the environment to get next state and reward\n",
        "    state, reward, done = tf_env_step(action)\n",
        "    state.set_shape(initial_state_shape)\n",
        "\n",
        "    # Store reward\n",
        "    rewards = rewards.write(t, reward)\n",
        "\n",
        "    if tf.cast(done, tf.bool):\n",
        "      break\n",
        "\n",
        "  action_probs = action_probs.stack()\n",
        "  values = values.stack()\n",
        "  rewards = rewards.stack()\n",
        "\n",
        "  return action_probs, values, rewards"
      ],
      "metadata": {
        "id": "-ph1BZG-Oky0"
      },
      "execution_count": 7,
      "outputs": []
    },
    {
      "cell_type": "code",
      "source": [
        "def get_expected_return(\n",
        "    rewards: tf.Tensor, \n",
        "    gamma: float, \n",
        "    standardize: bool = True) -> tf.Tensor:\n",
        "  \"\"\"Compute expected returns per timestep.\"\"\"\n",
        "\n",
        "  n = tf.shape(rewards)[0]\n",
        "  returns = tf.TensorArray(dtype=tf.float32, size=n)\n",
        "\n",
        "  # Start from the end of `rewards` and accumulate reward sums\n",
        "  # into the `returns` array\n",
        "  rewards = tf.cast(rewards[::-1], dtype=tf.float32)\n",
        "  discounted_sum = tf.constant(0.0)\n",
        "  discounted_sum_shape = discounted_sum.shape\n",
        "  for i in tf.range(n):\n",
        "    reward = rewards[i]\n",
        "    discounted_sum = reward + gamma * discounted_sum\n",
        "    discounted_sum.set_shape(discounted_sum_shape)\n",
        "    returns = returns.write(i, discounted_sum)\n",
        "  returns = returns.stack()[::-1]\n",
        "\n",
        "  if standardize:\n",
        "    returns = ((returns - tf.math.reduce_mean(returns)) / \n",
        "               (tf.math.reduce_std(returns) + eps))\n",
        "\n",
        "  return returns"
      ],
      "metadata": {
        "id": "YucbE-KAPITw"
      },
      "execution_count": 8,
      "outputs": []
    },
    {
      "cell_type": "code",
      "source": [
        "huber_loss = tf.keras.losses.Huber(reduction=tf.keras.losses.Reduction.SUM)\n",
        "\n",
        "def compute_loss(\n",
        "    action_probs: tf.Tensor,  \n",
        "    values: tf.Tensor,  \n",
        "    returns: tf.Tensor) -> tf.Tensor:\n",
        "  \"\"\"Computes the combined actor-critic loss.\"\"\"\n",
        "\n",
        "  advantage = returns - values\n",
        "\n",
        "  action_log_probs = tf.math.log(action_probs)\n",
        "  actor_loss = -tf.math.reduce_sum(action_log_probs * advantage)\n",
        "\n",
        "  critic_loss = huber_loss(values, returns)\n",
        "\n",
        "  return actor_loss + critic_loss"
      ],
      "metadata": {
        "id": "-3wDJcmnPPUs"
      },
      "execution_count": 9,
      "outputs": []
    },
    {
      "cell_type": "code",
      "source": [
        "optimizer = tf.keras.optimizers.Adam(learning_rate=0.01)\n",
        "\n",
        "\n",
        "@tf.function\n",
        "def train_step(\n",
        "    initial_state: tf.Tensor, \n",
        "    model: tf.keras.Model, \n",
        "    optimizer: tf.keras.optimizers.Optimizer, \n",
        "    gamma: float, \n",
        "    max_steps_per_episode: int) -> tf.Tensor:\n",
        "  \"\"\"Runs a model training step.\"\"\"\n",
        "\n",
        "  with tf.GradientTape() as tape:\n",
        "\n",
        "    # Run the model for one episode to collect training data\n",
        "    action_probs, values, rewards = run_episode(\n",
        "        initial_state, model, max_steps_per_episode) \n",
        "\n",
        "    # Calculate expected returns\n",
        "    returns = get_expected_return(rewards, gamma)\n",
        "\n",
        "    # Convert training data to appropriate TF tensor shapes\n",
        "    action_probs, values, returns = [\n",
        "        tf.expand_dims(x, 1) for x in [action_probs, values, returns]] \n",
        "\n",
        "    # Calculating loss values to update our network\n",
        "    loss = compute_loss(action_probs, values, returns)\n",
        "\n",
        "  # Compute the gradients from the loss\n",
        "  grads = tape.gradient(loss, model.trainable_variables)\n",
        "\n",
        "  # Apply the gradients to the model's parameters\n",
        "  optimizer.apply_gradients(zip(grads, model.trainable_variables))\n",
        "\n",
        "  episode_reward = tf.math.reduce_sum(rewards)\n",
        "\n",
        "  return episode_reward"
      ],
      "metadata": {
        "id": "I-NFbpu9PUl1"
      },
      "execution_count": 10,
      "outputs": []
    },
    {
      "cell_type": "code",
      "source": [
        "%%time\n",
        "\n",
        "min_episodes_criterion = 100\n",
        "max_episodes = 10000\n",
        "max_steps_per_episode = 1000\n",
        "\n",
        "# Cartpole-v0 is considered solved if average reward is >= 195 over 100 \n",
        "# consecutive trials\n",
        "reward_threshold = 195\n",
        "running_reward = 0\n",
        "\n",
        "# Discount factor for future rewards\n",
        "gamma = 0.99\n",
        "\n",
        "# Keep last episodes reward\n",
        "episodes_reward: collections.deque = collections.deque(maxlen=min_episodes_criterion)\n",
        "\n",
        "with tqdm.trange(max_episodes) as t:\n",
        "  for i in t:\n",
        "    initial_state = tf.constant(env.reset(), dtype=tf.float32)\n",
        "    episode_reward = int(train_step(\n",
        "        initial_state, model, optimizer, gamma, max_steps_per_episode))\n",
        "\n",
        "    episodes_reward.append(episode_reward)\n",
        "    running_reward = statistics.mean(episodes_reward)\n",
        "\n",
        "    t.set_description(f'Episode {i}')\n",
        "    t.set_postfix(\n",
        "        episode_reward=episode_reward, running_reward=running_reward)\n",
        "\n",
        "    # Show average episode reward every 10 episodes\n",
        "    if i % 10 == 0:\n",
        "      pass # print(f'Episode {i}: average reward: {avg_reward}')\n",
        "\n",
        "    if running_reward > reward_threshold and i >= min_episodes_criterion:  \n",
        "        break\n",
        "\n",
        "print(f'\\nSolved at episode {i}: average reward: {running_reward:.2f}!')"
      ],
      "metadata": {
        "colab": {
          "base_uri": "https://localhost:8080/"
        },
        "id": "NOQo_ySbPakP",
        "outputId": "9ef11a48-d80f-4cb3-8dab-442b5aa4f44e"
      },
      "execution_count": 11,
      "outputs": [
        {
          "output_type": "stream",
          "name": "stderr",
          "text": [
            "Episode 604:   6%|▌         | 604/10000 [00:41<10:45, 14.56it/s, episode_reward=200, running_reward=196]"
          ]
        },
        {
          "output_type": "stream",
          "name": "stdout",
          "text": [
            "\n",
            "Solved at episode 604: average reward: 196.34!\n",
            "CPU times: user 51.9 s, sys: 2.32 s, total: 54.2 s\n",
            "Wall time: 41.5 s\n"
          ]
        },
        {
          "output_type": "stream",
          "name": "stderr",
          "text": [
            "\n"
          ]
        }
      ]
    },
    {
      "cell_type": "code",
      "source": [
        "# Render an episode and save as a GIF file\n",
        "\n",
        "from IPython import display as ipythondisplay\n",
        "from PIL import Image\n",
        "from pyvirtualdisplay import Display\n",
        "\n",
        "\n",
        "display = Display(visible=0, size=(400, 300))\n",
        "display.start()\n",
        "\n",
        "\n",
        "def render_episode(env: gym.Env, model: tf.keras.Model, max_steps: int): \n",
        "  screen = env.render(mode='rgb_array')\n",
        "  im = Image.fromarray(screen)\n",
        "\n",
        "  images = [im]\n",
        "\n",
        "  state = tf.constant(env.reset(), dtype=tf.float32)\n",
        "  for i in range(1, max_steps + 1):\n",
        "    state = tf.expand_dims(state, 0)\n",
        "    action_probs, _ = model(state)\n",
        "    action = np.argmax(np.squeeze(action_probs))\n",
        "\n",
        "    state, _, done, _ = env.step(action)\n",
        "    state = tf.constant(state, dtype=tf.float32)\n",
        "\n",
        "    # Render screen every 10 steps\n",
        "    if i % 10 == 0:\n",
        "      screen = env.render(mode='rgb_array')\n",
        "      images.append(Image.fromarray(screen))\n",
        "\n",
        "    if done:\n",
        "      break\n",
        "\n",
        "  return images\n",
        "\n",
        "\n",
        "# Save GIF image\n",
        "images = render_episode(env, model, max_steps_per_episode)\n",
        "image_file = 'cartpole-v0.gif'\n",
        "# loop=0: loop forever, duration=1: play each frame for 1ms\n",
        "images[0].save(\n",
        "    image_file, save_all=True, append_images=images[1:], loop=0, duration=1)"
      ],
      "metadata": {
        "id": "6FePLga3PgnE"
      },
      "execution_count": 12,
      "outputs": []
    },
    {
      "cell_type": "code",
      "source": [
        "import tensorflow_docs.vis.embed as embed\n",
        "embed.embed_file(image_file)"
      ],
      "metadata": {
        "colab": {
          "base_uri": "https://localhost:8080/",
          "height": 421
        },
        "id": "jn8RZe55PjgF",
        "outputId": "85ee2bae-c6a1-4ac5-be28-02908020b18c"
      },
      "execution_count": 13,
      "outputs": [
        {
          "output_type": "execute_result",
          "data": {
            "text/html": [
              "<img src=\"data:image/gif;base64,R0lGODlhWAKQAYIAAAAAAMyZZmZmzJmZzP///wAAAAAAAAAAACH/C05FVFNDQVBFMi4wAwEAAAAsAAAAAFgCkAEACP8ACQgcSLCgwYMIEypcyLChw4cQI0qcSLGixYsYM2rcyLGjx48gQ4ocSbKkyZMoU6pcybKly5cwY8qcSbOmzZs4c+rcybOnz59AgwodSrSo0aNIkypdyrSp06dQo0qdSrWq1atYs2rdyrWr169gw4odS7as2bNo06pdy7at27dw48qdS7eu3bt48+rdy7ev37+AAwseTLiw4cOIEytezLix48eQI0ueTLmy5cuYM2vezLmz58+gQ4seTbq06dOoU6tezbq169ewY8ueTbu27du4c+vezbu379/AgwsfTry48ePIkytfzry58+fQo0ufTr269evYs2vfzr279+/gw4v/H0++vPnz6NOrX8++vfv38OPLn0+/vv37+PPr38+/v3+ABAQOJFjQ4EGECRUuZNjQ4UOIESVOpFjR4kWMGTVu5NjR40eQIUWOJFnS5EmUKVWuZNnS5UuYMWXOpFnT5k2cOXXu5NnT50+gQYUOJVrU6FGkSZUuZdrU6VOoUaVOpVrV6lWsWbVu5drV61ewYcWOJVvW7Fm0adWuZdvW7Vu4ceXOpVvX7l28efXu5dvX71/AgQUPJlzY8GHEiRUvZtzY8WPIkSVPplzZ8mXMmTVv5tzZ82fQoUWPJl3a9GnUqVWvZt3a9WvYsWXPpl3b9m3cuXXv5t3b92/gwYUPJ17c//hx5MmVL2fe3Plz6NGlT6de3fp17Nm1b+fe3ft38OHFjydf3vx59OnVr2ff3v17+PHlz6df3/59/Pn17+ff3z9AAgIHEixo8CDChAoXMmzo8CHEiBInUqxo8SLGjBo3cuzo8SPIkCJHkixp8iTKlCpXsmzp8iXMmDJn0qxp8ybOnDp38uzp8yfQoEKHEi1q9CjSpEqXMm3q9CnUqFKnUq1q9SrWrFq3cu3q9SvYsGLHki1r9izatGrXsm3r9i3cuHLn0q1r9y7evHr38u3r9y/gwIIHEy5s+DDixIoXM27s+DHkyJInU65s+TLmzJo3c+7s+TPo0KJHky5t+jTq1P+qV7Nu7fo17NiyZ9Oubfs27ty6d/Pu7fs38ODChxMvbvw48uTKlzNv7vw59OjSp1Ovbv069uzat3Pv7v07+PDix5Mvb/48+vTq17Nv7/49/Pjy59Ovb/8+/vz69/Pv7x8gAYEDCRY0eBBhQoULGTZ0+BBiRIkTKVa0eBFjRo0bOXb0+BFkSJEjSZY0eRJlSpUrWbZ0+RJmTJkzada0eRNnTp07efb0+RNoUKFDiRY1ehRpUqVLmTZ1+hRqVKlTqVa1ehVrVq1buXb1+hVsWLFjyZY1exZtWrVr2bZ1+9ZqgAAE6Na1exdvXr17+fb1+xdwYMGDCRc2fBhxYsWLGTf/dvwYcmTJkynXDXAZc2YCmzl39vwZdGjRo0mXNn0adWrVq1m3dv0admzZs2nXtn0bd27dtgP09v2bQHDhw4kXN34ceXLly5k3d/4cenTp06lXt34de3bt27l39/4dPPcA48mXJ3AefXr169m3d/8efnz58+nXt38ff379+/n39w+QgMCBBAsaPIgwocKFDBs6fAgxosSJFCtaXBggo8aNBDp6/AgypMiRJEuaPIkypcqVLFu6fAkzpsyZNGvavIkzp86dPHEG+Ak0KIGhRIsaPYo0qdKlTJs6fQo1qtSpVKtavYo1q9atXLt6/Qo2rFivAcqaPUsgrdq1bNu6fQs3/67cuXTr2r2LN6/evXz7+v0LOLDgwYQLGz6MmHCAxYwbE3gMObLkyZQrW76MObPmzZw7e/4MOrTo0aRLmz6NOrXq1axbu1YdILbs2QRq276NO7fu3bx7+/4NPLjw4cSLGz+OPLny5cybO38OPbr06dShB7iOPTuB7dy7e/8OPrz48eTLmz+PPr369ezbu38PP778+fTr27+PP79++wH6+wcYQGAAAgUNHkSYUOFChg0dPoQYUeJEihUtXsSYUeNGjh09fgQZUuRIkiADnESZksBKli1dvoQZU+ZMmjVt3sSZU+dOnj19/gQaVOhQokWNHkWaVKnRAE2dPiUQVepUqv9VrV7FmlXrVq5dvX4FG1bsWLJlzZ5Fm1btWrZt3b6FyzbAXLp1CdzFm1fvXr59/f4FHFjwYMKFDR9GnFjxYsaNHT+GHFnyZMqVLUsOkFnzZgKdPX8GHVr0aNKlTZ9GnVr1atatXb+GHVv2bNq1bd/GnVv3bt64A/wGHpzAcOLFjR9Hnlz5cubNnT+HHl36dOrVrV/Hnl37du7dvX8HH1689wDlzZ8nkF79evbt3b+HH1/+fPr17d/Hn1//fv79/QMkIHAgwYIGDyJMqHAhw4YOH0KMKHEixYoWL2J0GGAjx44EPoIMKXIkyZImT6JMqXIly5YuX8KMKXMmzZo2b+L/zKlzJ8+ePnUGCCp0KIGiRo8iTap0KdOmTp9CjSp1KtWqVq9izap1K9euXr+CDSt2LFmwAc6iTUtgLdu2bt/CjSt3Lt26du/izat3L9++fv8CDix4MOHChg8jTqzYcIDGjh8TiCx5MuXKli9jzqx5M+fOnj+DDi16NOnSpk+jTq16NevWrl/DZh1gNu3aBG7jzq17N+/evn8DDy58OPHixo8jT658OfPmzp9Djy59OvXq1qUHyK59O4Hu3r+DDy9+PPny5s+jT69+Pfv27t/Djy9/Pv369u/jz69/P3/8AQAGEDhwIAGDBxEmVLiQYUOHDyFGlDiRYkWLFzFm1LiR/2NHjx9BhhQ5kmTJkAFQplRJgGVLly9hxpQ5k2ZNmzdx5tS5k2dPnz+BBhU6lGhRo0eRJlW69GgAp0+hEpA6lWpVq1exZtW6lWtXr1/BhhU7lmxZs2fRplW7lm1bt2/hxmUbgG5duwTw5tW7l29fv38BBxY8mHBhw4cRJ1a8mHFjx48hR5Y8mXJly5cnB9C8mTMBz59BhxY9mnRp06dRp1a9mnVr169hx5Y9m3Zt27dx59a9m3fv3AGABxdOgHhx48eRJ1e+nHlz58+hR5c+nXp169exZ9e+nXt379/Bhxc//nsA8+fRE1C/nn179+/hx5c/n359+/fx59e/n39///8ACQgcSLCgwYMIEypcyLChw4cQI0qcSLGixYsYMzIMwLGjRwIgQ4ocSbKkyZMoU6pcybKly5cwY8qcSbOmzZs4c+rcybOnz587AwgdSpSA0aNIkypdyrSp06dQo0qdSrWq1atYs2rdyrWr169gw4odS7Zs2ABo06olwLat27dw48qdS7eu3bt48+rdy7ev37+AAwseTLiw4cOIEytefDiA48eQCUieTLmy5cuYM2vezLmz58+gQ4seTbq06dOoU6tezbq169ewY7cOQLu2bQK4c+vezbu379/AgwsfTry48ePIkytfzry58+fQo0ufTr269evTA2jfzp2A9+/gw4v/H0++vPnz6NOrX8++vfv38OPLn0+/vv37+PPr38+/f36AAQQOJEjA4EGECRUuZNjQ4UOIESVOpFjR4kWMGTVu5NjR40eQIUWOJFkyZACUKVUSYNnS5UuYMWXOpFnT5k2cOXXu5NnT50+gQYUOJVrU6FGkSZUuPRrA6VOoBKROpVrV6lWsWbVu5drV61ewYcWOJVvW7Fm0adWuZdvW7Vu4cdsGoFvXLgG8efXu5dvX71/AgQUPJlzY8GHEiRUvZtzY8WPIkSVPplzZ8uXJATRv5kzA82fQoUWPJl3a9GnUqVWvZt3a9WvYsWXPpl3b9m3cuXXv5t07dwDgwYUTIF7c//hx5MmVL2fe3Plz6NGlT6de3fp17Nm1b+fe3ft38OHFj/8ewPx59ATUr2ff3v17+PHlz6df3/59/Pn17+ff3z9AAgIHEixo8CDChAoXMmzo8CHEiBInUqxo8SLGjAwDcOzokQDIkCJHkixp8iTKlCpXsmzp8iXMmDJn0qxp8ybOnDp38uzp8+fOAEKHEiVg9CjSpEqXMm3q9CnUqFKnUq1q9SrWrFq3cu3q9SvYsGLHki0bNgDatGoJsG3r9i3cuHLn0q1r9y7evHr38u3r9y/gwIIHEy5s+DDixIoXHw7g+DFkApInU65s+TLmzJo3c+7s+TPo0KJHky5t+jTq1P+qV7Nu7fo17NitA9CubZsA7ty6d/Pu7fs38ODChxMvbvw48uTKlzNv7vw59OjSp1Ovbv269ADat3Mn4P07+PDix5Mvb/48+vTq17Nv7/49/Pjy59Ovb/8+/vz69/Pvnx9gAIEDCRIweBBhQoULGTZ0+BBiRIkTKVa0eBFjRo0bOXb0+BFkSJEjSZYMGQBlSpUEWLZ0+RJmTJkzada0eRNnTp07efb0+RNoUKFDiRY1ehRpUqVLjwZw+hQqAalTqVa1ehVrVq1buXb1+hVsWLFjyZY1exZtWrVr2bZ1+xZu3LYB6Na1SwBvXr17+fb1+xdwYMGDCRc2fBhxYsWLGTf/dvwYcmTJkylXtnx5cgDNmzkT8PwZdGjRo0mXNn0adWrVq1m3dv0admzZs2nXtn0bd27du3n3zh0AeHDhBIgXN34ceXLly5k3d/4cenTp06lXt34de3bt27l39/4dfHjx478HMH8ePQH169m3d/8efnz58+nXt38ff379+/n39w+QgMCBBAsaPIgwocKFDBs6fAgxosSJFCtavIgxI8MAHDt6JAAypMiRJEuaPIkypcqVLFu6fAkzpsyZNGvavIkzp86dPHv6/LkzgNChRAkYPYo0qdKlTJs6fQo1qtSpVKtavYo1q9atXLt6/Qo2rNixZMuGDYA2rVoCbNu6fQs3/67cuXTr2r2LN6/evXz7+v0LOLDgwYQLGz6MOLHixYcDOH4MmYDkyZQrW76MObPmzZw7e/4MOrTo0aRLmz6NOrXq1axbu34NO3brALRr2yaAO7fu3bx7+/4NPLjw4cSLGz+OPLny5cybO38OPbr06dSrW78+PYD27dwJeP8OPrz48eTLmz+PPr369ezbu38PP778+fTr27+PP7/+/fz75wcYQOBAggQMHkSYUOFChg0dPoQYUeJEihUtXsSYUeNGjh09fgQZUuRIkiVDBkCZUiUBli1dvoQZU+ZMmjVt3sSZU+dOnj19/gQaVOhQokWNHkWaVOnSowGcPoVKQOpUqv9VrV7FmlXrVq5dvX4FG1bsWLJlzZ5Fm1btWrZt3b6FG7dtALp17RLAm1fvXr59/f4FHFjwYMKFDR9GnFjxYsaNHT+GHFnyZMqVLV+eHEDzZs4EPH8GHVr0aNKlTZ9GnVr1atatXb+GHVv2bNq1bd/GnVv3bt69cwcAHlw4AeLFjR9Hnlz5cubNnT+HHl36dOrVrV/Hnl37du7dvX8HH178+O8BzJ9HT0D9evbt3b+HH1/+fPr17d/Hn1//fv79/QMkIHAgwYIGDyJMqHAhw4YOH0KMKHEixYoWL2LMyDAAx44eCYAMKXIkyZImT6JMqXIly5YuX8KMKXMmzZo2b+L/zKlzJ8+ePn/qDCB0KNEABI4iTap0KdOmTp9CjSp1KtWqVq9izap1K9euXr+CDSt2LNmyZsMGSKt2LYG2bt/CjSt3Lt26du/izat3L9++fv8CDix4MOHChg8jTqx4MWPEAR5DjkxgMuXKli9jzqx5M+fOnj+DDi16NOnSpk+jTq16NevWrl/Dji3bdYDatm8TyK17N+/evn8DDy58OPHixo8jT658OfPmzp9Djy59OvXq1q9jpx5gO/fuBL6DDy9+PPny5s+jT69+Pfv27t/Djy9/Pv369u/jz69/P//+/gESEDiQYEGDBwkEULiQIQGHDyFGlDiRYkWLFzFm1LiR/2NHjx9BhhQ5kmRJkydRplS5kmXLlAFgxpRJgGZNmzdx5tS5k2dPnz+BBhU6lGhRo0eRJlW6lGlTp0+hRpU69WkAq1exEtC6lWtXr1/BhhU7lmxZs2fRplW7lm1bt2/hxpU7l25du3fx5q0bgG9fvwQABxY8mHBhw4cRJ1a8mHFjx48hR5Y8mXJly5cxZ9a8mXNnz583BxA9mjQB06dRp1a9mnVr169hx5Y9m3Zt27dx59a9m3dv37+BBxc+nHjx4AGQJ1dOgHlz58+hR5c+nXp169exZ9e+nXt379/Bhxc/nnx58+fRp1e//nwA9+/hE5A/n359+/fx59e/n39///8ACQgcSLCgwYMIEypcyLChw4cQI0qcSLGixYsYM2rcyLGjR4oBQoocSaCkyZMoU6pcybKly5cwY8qcSbOmzZs4c+rcybOnz59AgwodShRogKNIkxJYyrSp06dQo0qdSrWq1atYs2rdyrWr169gw4odS7as2bNo06o1G6Ct27cE4sqdS7eu3bt48+rdy7ev37+AAwseTLiw4cOIEytezLix48eQGQeYTLkygcuYM2vezLmz58+gQ4seTbq06dOoU6tezbq169ewY8ueTbu2bdkBcuveTaC379/AgwsfTry48ePIkytfzry58+fQo0ufTr269evYs2vfzh17gO/gwxP/GE++vPnz6NOrX8++vfv38OPLn0+/vv37+PPr38+/v3+ABAQOJFjQ4EGECRUuZNjQ4UOIEQUGoFjRIgGMGTVu5NjR40eQIUWOJFnS5EmUKVWuZNnS5UuYMWXOpFnT5s2ZAXTu5EnA50+gQYUOJVrU6FGkSZUuZdrU6VOoUaVOpVrV6lWsWbVu5do1awCwYcUSIFvW7Fm0adWuZdvW7Vu4ceXOpVvX7l28efXu5dvX71/AgQUP/hvA8GHEBBQvZtzY8WPIkSVPplzZ8mXMmTVv5tzZ82fQoUWPJl3a9GnUqUsHYN3aNQHYsWXPpl3b9m3cuXXv5t3b92/gwYUPJ17c//hx5MmVL2fe3Plz5QGkT6dOwPp17Nm1b+fe3ft38OHFjydf3vx59OnVr2ff3v17+PHlz6dfP34A/Pn1E+Df3z9AAgIHEixo8CDChAoXMmzo8CHEiBInUqxo8SLGjBo3cuzo8SPIkBMDkCxpkgDKlCpXsmzp8iXMmDJn0qxp8ybOnDp38uzp8yfQoEKHEi1q9OjQAEqXMiXg9CnUqFKnUq1q9SrWrFq3cu3q9SvYsGLHki1r9izatGrXsm2bNgDcuHIJ0K1r9y7evHr38u3r9y/gwIIHEy5s+DDixIoXM27s+DHkyJInPw5g+TJmApo3c+7s+TPo0KJHky5t+jTq1P+qV7Nu7fo17NiyZ9Oubfs27ty1A/Du7ZsA8ODChxMvbvw48uTKlzNv7vw59OjSp1Ovbv069uzat3Pv7v379gDix5MnYP48+vTq17Nv7/49/Pjy59Ovb/8+/vz69/Pv7x8gAYEDCRY0eBBhQoULGTZ0+BBiRIkTKVZEGABjRo0EOHb0+BFkSJEjSZY0eRJlSpUrWbZ0+RJmTJkzada0eRNnTp07bwbw+RMoAaFDiRY1ehRpUqVLmTZ1+hRqVKlTqVa1ehVrVq1buXb1+hVs2K4ByJY1SwBtWrVr2bZ1+xZuXLlz6da1exdvXr17+fb1+xdwYMGDCRc2fHhwAMWLGRP/cPwYcmTJkylXtnwZc2bNmzl39vwZdGjRo0mXNn0adWrVq1m3Th0AdmzZBGjXtn0bd27du3n39v0beHDhw4kXN34ceXLly5k3d/4cenTp058HsH4dOwHt27l39/4dfHjx48mXN38efXr169m3d/8efnz58+nXt38ff/76Afj39w+QgMCBBAsaPIgwocKFDBs6fAgxosSJFCtavIgxo8aNHDt6/AgyZMcAJEuaJIAypcqVLFu6fAkzpsyZNGvavIkzp86dPHv6/Ak0qNChRIsaPTo0gNKlTAk4fQo1qtSpVKtavYo1q9atXLt6/Qo2rNixZMuaPYs2rdq1bNumDQA3/65cAnTr2r2LN6/evXz7+v0LOLDgwYQLGz6MOLHixYwbO34MObLkyY8DWL6MmYDmzZw7e/4MOrTo0aRLmz6NOrXq1axbu34NO7bs2bRr276NO3ftALx7+yYAPLjw4cSLGz+OPLny5cybO38OPbr06dSrW7+OPbv27dy7e/9uHID48eTLmw+APr16AOzbu3/vnoD8+fTr27+PP7/+/fz7+wdIQOBAggUNHkSYUOFChg0dPoQYUeJEihUtXsSYUeNGjh0VAgAZUuRIkgFMnkQJQOVKli1ZEoAZU+ZMmjVt3sSZU+dOnj19/gQaVOhQokWNHkWaVOlSpk2dEgUQVepUqv9UA1zFmhXAVq5dvXolEFbsWLJlzZ5Fm1btWrZt3b6FG1fuXLp17d7Fm1fvXr59/f6tC0DwYMKFCwcIMEDAAAEDBAQIAEDyZMqVKxPAnFnzZs6dPX8GHVr0aNKlTZ9GnVr1atatXb+GHVv2bNq1bbMGkFv3bt68AwgYIGCAgAECBgQAkFz5cubMCTyHHl36dOrVrV/Hnl37du7dvX8HH178ePLlzZ9Hn179evbtxwOAH1/+/PkBBggYIGCAgAECBgAEIHAgwYIFCSBMqHAhw4YOH0KMKHEixYoWL2LMqHEjx44eP4IMKXIkyZImOQJIqXIlS5YCBggYIGCAgAECBgD/yKlzJ0+eBH4CDSp0KNGiRo8iTap0KdOmTp9CjSp1KtWqVq9izap1K9euUwGADSt27NgBAgYIGCBggIABAgDAjSt37lwCdu/izat3L9++fv8CDix4MOHChg8jTqx4MePGjh9Djix5MmXFAC5jzqxZs4ABAgYIGCBggIABAE6jTq1aNYHWrl/Dji17Nu3atm/jzq17N+/evn8DDy58OPHixo8jT658eXAAzp9Djx49wAABAwQMEDBAwAAA3r+DDx+eAPny5s+jT69+Pfv27t/Djy9/Pv369u/jz69/P//+/gESEDiQYEGDBxEmVLiQYUOHDyEiBDCRYkWLFgMIGCBg/4CAAQIGBAAwkmRJkyYJpFS5kmVLly9hxpQ5k2ZNmzdx5tS5k2dPnz+BBhU6lGhRo0d7AlC6lGnTpgECDBAwQMAAAQECANC6lWvXrgTAhhU7lmxZs2fRplW7lm1bt2/hxpU7l25du3fx5tW7l29fv3QBBBY8mHDhwQEQIwawmHFjx44JRJY8mXJly5cxZ9a8mXNnz59BhxY9mnRp06dRp1a9mnVr169LA5A9m3Zt27dx565NgHdv37+BBxc+nHhx48eRJ1e+nHlz58+hR5c+nXp169exZ9cOHUB379/Bhxc/njx4AufRp1e/nn179+/hx5c/n359+/fx59e/n39//P8AAQgcSLCgwYMIEypcyLChw4cQI0qcSLGixYsYM2rcyLGjx48gQ4osSKCkyZMoU6pcybKly5cwY8qcSbOmzZs4AejcybOnz59Ag/YkQLSo0aNIkypdyrSp06dQo0qdSrWq1atYs2rdyrWr169gw4rFCqCs2bNo06pdyxYtgbdw48qdS7eu3bt48+rdy7ev37+AAwseTLiw4cOIEytezLjxYACQI0ueTLmy5cuTCWjezLmz58+gQ4seTbq06dOoU6tezbq169ewY8ueTbu27du4XQPYzbu379/Agwv3TaC48ePIkytfzry58+fQo0ufTr269evYs2vfzr279+/gw4v/H58dgPnz6NOrX8++fXoC8OPLn0+/vv37+PPr38+/v3+ABAQOJFjQ4EGECRUuZNjQ4UOIESVOpFjR4kWMGTVu5IgQwEeQIUWOJFnSpEgCKVWuZNnS5UuYMWXOpFnT5k2cOXXu5NnT50+gQYUOJVrU6NGeAJQuZdrU6VOoUZsSoFrV6lWsWbVu5drV61ewYcWOJVvW7Fm0adWuZdvW7Vu4ceWiBVDX7l28efXu5YuXwF/AgQUPJlzY8GHEiRUvZtzY8WPIkSVPplzZ8mXMmTVv5tx5MgDQoUWPJl3a9OnRBFSvZt3a9WvYsWXPpl3b9m3cuXXv5t3b92/gwYUPJ17c//hx5L4BLGfe3Plz6NGlOydQ3fp17Nm1b+fe3ft38OHFjydf3vx59OnVr2ff3v17+PHlz08PwP59/Pn17+ffPz9AAgIHEixo8CDChAoXMmzo8CHEiBInUqxo8SLGjBo3cuzo8SNIiwBGkixp8iTKlCpNEmjp8iXMmDJn0qxp8ybOnDp38uzp8yfQoEKHEi1q9CjSpEqXBgXg9CnUqFKnUq0alQDWrFq3cu3q9SvYsGLHki1r9izatGrXsm3r9i3cuHLn0q1rly2AvHr38u3r9y9gvgQGEy5s+DDixIoXM27s+DHkyJInU65s+TLmzJo3c+7s+TPo0KJHky5t+jTq1P+qV7Nu7fo17NiyZ9Oubfs27ty6d/Pu7fs38ODChxMvbvw48uTKlzNv7vw59OjSp1Ovbv069uzat3Pv7v07+PDix5Mvb/48+vTq17Nv7/49/Pjy59Ovb/8+/vz69/Pv7x8gAYEDCRY0eBBhQoULGTZ0+BBiRIkTKVa0eBFjRo0bOXb0+BFkSJEjSZY0eRJlSpUrWbZ0+RJmTJkzada0eRNnTp07efb0+RNoUKFDiRY1ehRpUqVLmTZ1+hRqVKlTqVa1ehVrVq1buXb1+hVsWLFjyZY1exZtWrVr2bZ1+xZuXLlz6da1exdvXr17+fb1+xdwYMGDCRc2fBhxYsWLGTf/dvwYcmTJkylXtnwZc2bNmzl39vwZdGjRo0mXNn0adWrVq1m3dv0admzZs2nXtn0bd27du3n39v0beHDhw4kXN34ceXLly5k3d/4cenTp06lXt34de3bt27l39/4dfHjx48mXN38efXr169m3d/8efnz58+nXt38ff379+/n39w+QgMCBBAsaPIgwocKFDBs6fAgxosSJFCtavIgxo8aNHDt6/AgypMiRJEuaPIkypcqVLFu6fAkzpsyZNGvavIkzp86dPHv6/Ak0qNChRIsaPYo0qdKlTJs6fQo1qtSpVKtavYo1q9atXLt6/Qo2rNixZMuaPYs2rdq1bNu6fQs3K67cuXTr2r2LN6/evXz7+v0LOLDgwYQLGz6MOLHixYwbO34MObLkyZRDBgQAIf8LTkVUU0NBUEUyLjADAQAAACznAKwAXwCPAIIAAADMmWZmZsyZmcz///8AAAAAAAAAAAAI/wAJCBxIsKDBgwgTKlxIIACBhxAjSpxIsaLFixgzVgzAsaNHAiBDihxJsqTJkyhTqiwZoKXLlwRiypxJs6bNmzhz6txpM4DPn0AJCB1KtKjRo0iTKl3K9GiAp1CjEphKtarVq1izat3KtSvWAGDDiiVAtqzZs2jTql3Ltq3btAHiyp1LoK7du3jz6t3Lt6/fv3oDCB5MmIDhw4gTK17MuLHjx5AXB5hMuTKBy5gza97MubPnz6BDcw5AurRpAqhTq17NurXr17Bjy24doLbt2wRy697Nu7fv38CDCx/uO4Dx48gJKF/OvLnz59CjS59O/XmA69izE9jOvbv37+DDi/8fT748+ADo06snwL69+/fw48ufT7++/fgB8uvfT6C/f4AEBA4kWNDgQYQJFS5kSCDAQ4gRCUykWNHiRYwZNW7k2BFjAJAhRRIgWdLkSZQpVa5k2dJlygAxZc4kUNPmTZw5de7k2dPnT50BhA4lSsDoUaRJlS5l2tTpU6hLA0ylWjUAAaxZtW7l2tXrV7BhxXYNUNbsWQJp1a5l29btW7hx5c51G8DuXbwE9O7l29fvX8CBBQ8m/DfAYcSJCSxm3NjxY8iRJU+mXBlyAMyZNRPg3NnzZ9ChRY8mXdp06ACpVa8m0Nr1a9ixZc+mXdv2bdkBdO/mTcD3b+DBhQ8nXtz/+HHkwwMsZ96cwHPo0aVPp17d+nXs2akH4N7dOwHw4cWPJ1/e/Hn06dWXD9De/XsC8eXPp1/f/n38+fXvtx/AP8AAAgcGIGDwIMKEChcybOjwIcSFASZSrEjgIsaMGjdy7OjxI8iQHAOQLGmSAMqUKleybOnyJcyYMlsGqGnzJoGcOnfy7OnzJ9CgQof6DGD0KFICSpcyber0KdSoUqdSfRrgKtasBLZy7er1K9iwYseSLQs2ANq0agmwbev2Ldy4cufSrWs3boC8evcS6Ov3L+DAggcTLmz4sOAAihczJuD4MeTIkidTrmz5MmbKATZz7kzgM+jQokeTLm36NOrU/6QDsG7tmgDs2LJn065t+zbu3LprB+jt+zeB4MKHEy9u/Djy5MqXGw/g/Dl0AtKnU69u/Tr27Nq3c78e4Dv48ATGky9v/jz69OrXs2+PPgD8+PIJ0K9v/z7+/Pr38+/vHyABgQMJBDB4ECEBhQsZNnT4EGJEiRMpPgxwEWNGAhs5dvT4EWRIkSNJlgQZAGVKlQRYtnT5EmZMmTNp1rQZM0BOnTsJ9PT5E2hQoUOJFjV6VGgApUuZEnD6FGpUqVOpVrV6FevUAFu5diXwFWxYsWPJljV7Fm1asgHYtnVLAG5cuXPp1rV7F29evXUD9PX7l0BgwYMJFzZ8GHFixYsNB/9w/BgyAcmTKVe2fBlzZs2bOV8O8Bl0aAKjSZc2fRp1atWrWbdGHQB2bNkEaNe2fRt3bt27eff2nTtAcOHDCRQ3fhx5cuXLmTd3/lx5AOnTqROwfh17du3buXf3/h089wDjyZcncB59evXr2bd3/x5+fPYB6Ne3TwB/fv37+ff3D5CAwIEECxo8iDAhwQAMGzokADGixIkUK1q8iDGjxooBOnr8SCCkyJEkS5o8iTKlypUmA7h8CZOAzJk0a9q8iTOnzp08bwb4CTQogaFEixo9ijSp0qVMmyINADWqVAJUq1q9ijWr1q1cu3rNGiCs2LEEypo9izat2rVs27p9qzb/gNy5dAnYvYs3r969fPv6/Qt4b4DBhAsTOIw4seLFjBs7fgw5MuMAlCtbJoA5s+bNnDt7/gw6tOjOAUqbPk0gterVrFu7fg07tuzZrgPYvo2bgO7dvHv7/g08uPDhxH8HOI48OYHlzJs7fw49uvTp1KtDD4A9u3YC3Lt7/w4+vPjx5MubDx8gvfr1BNq7fw8/vvz59Ovbvy8/gP79/An4B0hA4ECCBQ0eRJhQ4UKGBAM8hBiRwESKFS1exJhR40aOHTEGABlSJAGSJU2eRJlS5UqWLV2qDBBT5kwCNW3exJlT506ePX3+1BlA6FCiBIweRZpU6VKmTZ0+hbo0wFSq/1UJXMWaVetWrl29fgUblmsAsmXNEkCbVu1atm3dvoUbV27bAHXt3iWQV+9evn39/gUcWPBgvwEMH0ZMQPFixo0dP4YcWfJkyo8DXMacmcBmzp09fwYdWvRo0qVBB0CdWjUB1q1dv4YdW/Zs2rVtxw6QW/duAr19/wYeXPhw4sWNHxceQPly5gScP4ceXfp06tWtX8c+PcB27t0JfAcfXvx48uXNn0efnnwA9u3dE4AfX/58+vXt38efX3/9AP39AwwgMACBggYPIkyocCHDhg4fKgwgcSJFAhYvYsyocSPHjh4/gtwYYCTJkgROokypciXLli5fwozJMgDNmjYJ4P/MqXMnz54+fwINKrRngKJGjxJIqnQp06ZOn0KNKnWq0wBWr2IloHUr165ev4INK3Ys2a8BzqJNS2At27Zu38KNK3cu3bpxA+DNq5cA375+/wIOLHgw4cKGAwdIrHgxgcaOH0OOLHky5cqWL0sOoHkzZwKeP4MOLXo06dKmT6MeHWA169YEXsOOLXs27dq2b+POTTsA796+CQAPLnw48eLGjyNPrrx4gObOnxOILn069erWr2PPrn279QDev4MnIH48+fLmz6NPr349+/MB3sOPT2A+/fr27+PPr38///74AQYQOJAgAYMHESZUuJBhQ4cPIS4MMJFiRQIXMWbUuJH/Y0ePH0GG5BiAZEmTBFCmVLmSZUuXL2HGlNkyQE2bNwnk1LmTZ0+fP4EGFTrUZwCjR5ESULqUaVOnT6FGlTqV6tMAV7FmJbCVa1evX8GGFTuWbFmwAdCmVUuAbVu3b+HGlTuXbl27cQPk1buXQF+/fwEHFjyYcGHDhwUHULyYMQHHjyFHljyZcmXLlzFPDrCZc2cCn0GHFj2adGnTp1EDUL2adWvWAWDHlh0AQG3bt3HjJrCbd2/fv4EHFw6AeHHjx48HUL6cOQDnz6FHj06AenXr17Fn174dQHfv38GDDzCefHkA59GnV6+eQHv37+HHlz+fPgD79/Hnzx8gwAAB/wAHCBggIEAAAAgTKly4kIDDhxAjSpxIsSKAixgzatQYQMAAAQMEDBAwIACAkyhTqlRJoKXLlzBjypxJE4DNmzhz5hwgYICAAQIGCBgQAIDRo0iTJiXAtKnTp1CjSp0KoKrVq1ixChggYICAAQIGCBgAoKzZs2jREljLtq3bt3DjygVAt67du3cHCBggYICAAQIGCABAuLDhw4cJKF7MuLHjx5AjA5hMubJlywIGCBggYICAAQIGABhNurRp0wRSq17NurXr17AByJ5Nu3btAQIGCBggYICAAQEACB9OvHhxAsiTK1/OvLnz5wCiS59OnXqAAQIGCBggYICAAADCi/8fT548gfPo06tfz769ewDw48ufPz9AAAEDBAwQMCBAAIAABA4kWLAgAYQJFS5k2NDhQwARJU6kSDHAxYsANG7k2NEjRwIhRY4kWdLkSZQAVK5k2dLlS5gxWxKgWdPmTZw5de4E0NPnT6BBhQ4lWtToUaRJlS4lSsDpU6hRpU6lWhXAVaxZtW7l2tWrVgJhxY4lW9bsWbQA1K5l29btW7hx2xKgW9fuXbx59e4F0NfvX8CBBQ8mDJjAYcSJFS9m3NgxAMiRJU+mXNny5ckENG/m3NnzZ9ChAYwmXdr0adSpVZsm0Nr1a9ixZc+mDcD2bdy5de/m3Ts3AeDBhQ8nXtyq+HEAyZUvZ97c+XPozAlMp17d+nXs2bUD4N7d+3fw4cWP/07A/Hn06dWvZ98ewHv48eXPp1/fvnwC+fXv59/fP0ACAgcSLCgQAMKEChcybOjw4UICEidSrGjxIsaMADZy7OjxI8iQIj0SKGnyJMqUKleyBODyJcyYMmfSrBmTAM6cOnfy7OnzJ4CgQocSLWr0KFKiBJYyber0KdSoUgFQrWr1KtasWrdeDQgAIf8LTkVUU0NBUEUyLjADAQAAACwfAawAEwB8AIIAAADMmWZmZsyZmcz///8AAAAAAAAAAAAI/wAJCBw4MACBgwgRBljIsCGBhxAhBphIsSKBixgxBtjIsSOBjyBBBhhJsmQAAihTpgzAsqVLAjBjxgxAs6ZNAjhz5gzAs6dPAkCDBg1AtKhRAkiTJg3AtKlTAlCjRg1AtapVAlizZg3AtatXAmDDhg1AtqxZAmjTpg3Atq1bAnDjxg1At65dAnjz5g3At69fAoADBw5AuLBhAogTJw7AuLFjApAjRw5AubJlApgzaw7AubNnAqBDhw5AurRpAqhTpw7AurVrArBjxw5Au7ZtArhz5w7Au7dvAsCDBw9AvLhxAsiTJw/AvLlzAtCjRw9Avbp1AtizZw/Avbt3AuDDh/8PQL68eQLo06cPwL69ewLw48cPQL++fQL48+cPwL+/f4AEBA4cGMDgQYQEFC5cGMDhQ4gBCEykSDHARYwZCWzkyDHAR5AhCYwkSTLASZQpCaxkyTLAS5gxCcykSTPATZw5CezkyTPAT6BBCQwlSjTAUaRJCSxlyjTAU6hRCUylSjXAVaxZCWzlyjXAV7BhCYwlSzbAWbRpCaxlyzbAW7hxCcylSzfAXbx5CezlyzfAX8CBCQwmXDjAYcSJCSxmzDjAY8iRCUymTDnAZcyZCWzmzDnAZ9ChCYwmTTrAadSpCaxmzTrAa9ixCcymTTvAbdy5CezmzTvAb+DBCQwnTjz/wHHkyQksZ848wHPo0QlMp049wHXs2Qls5849wHfw4QmMJ08+wHn06QmsZ88+wHv48QnMp18/wH38+Qns588/AMAAAgcOJGDw4MEAChcyJODw4cMAEidSJGDx4sUAGjdyJODx48cAIkeSJGDy5MkAKleyJODy5csAMmfSJGDz5s0AOnfyJODz588AQocSJWD06NEASpcyJeD06dMAUqdSJWD16tUAWrdyJeD169cAYseSJWD27NkAateyJeD2LdwAcufSJWD37t0AevfyJeD3798AggcTJmD48OEAihczJuD48eMAkidTJmD58uUAmjdzJuD58+cAokeTJmD69OkA/6pXsybg+vXrALJn0yZg+/btALp38ybg+/fvAMKHEydg/PjxAMqXMyfg/PnzANKnUydg/fr1ANq3cyfg/Tv4AOLHkydg/vz5AOrXsyfg/v37APLn0ydg//79APr38yfgHyABgQMDFDR4kEBChQoDNHT4kEBEiRIDVLR4kUBGjRoDdPT4kUBIkSIDlDR5kkBKlSoDtHT5kkBMmTID1LR5k0BOnToD9PT5k0BQoUIDFDV6lEBSpUoDNHX6lEBUqVIDVLV6NQABrVu3BvD6FSwBsWPHBjB7Fi0BtWvXBnD7Fi4BuXPnBrB7Fy8BvXv3BvD7FzABwYMHBzB8GDEBxYsXB6Fw/BgyAQCTKU8OcBlzZgCbOXMO8Bl0aACjSZMOcBp1agCrWbMO8HqAgAECBggIAAB37twBAggYIGCAgAECBgAwfvx4gAECBggYIGCAgAEAqFevHkDAAAEDBAwQMEAAAPHjyQ8QMEDAAAEDBAwQAAB+/PgCBggYIGCAgAECAgDwDxCAwIEDBAwQMEDAAAEDAgB4CBFigAECBggYIGBAgAABAQAh/wtORVRTQ0FQRTIuMAMBAAAALA4BrAA4AI8AggAAAMyZZmZmzJmZzP///wAAAAAAAAAAAAj/AAkIHEiwoMEAAQgoXMiwocOHECMSCECxokUCGDNq3Mixo8ePBAKIHEmSgMmTKFOqXMmyJYEAMGPKJECzps2bOHPq3EkggM+fQAkIHUq0qNGjSJMSCMC0qVMCUKNKnUq1qtWrBAJo3cqVgNevYMOKHUu2LIEAaNOqJcC2rdu3cOPKnUsggN27eAno3cu3r9+/gAMTCEC4sGECiBMrXsy4sePHBAJInkyZgOXLmDNr3sy5M4EAoEOLJkC6tOnTqFOrXk0ggOvXsAnInk27tu3buHMTCMC7t28CwIMLH068uPHjBAIoX86cgPPn0KNLn069uvMA2LNrJ8C9u/fv4MOL/x9PIID58+gJqF/Pvr379/DjEwhAv759Avjz69/Pv79/gAQEDiQYwOBBhAQULmTY0OFDiBEJBKBY0SIBjBk1buTY0eNHAgFEjiRJwORJlClVrmTZkkAAmDFlEqBZ0+ZNnDl17iQQwOdPoASEDiVa1OhRpEkJBGDa1CkBqFGlTqVa1epVAgG0buVKwOtXsGHFjiVblkAAtGnVEmDb1u1buHHlziUQwO5dvAT07uXb1+9fwIEJBCBc2DABxIkVL2bc2PFjAgEkT6ZMwPJlzJk1b+bcmUAA0KFFEyBd2vRp1KlVryYQwPVr2ARkz6Zd2/Zt3LkJBODd2zcB4MGFDyde3P/4cQIBlC9nHoDAc+jRpU+nXt06gQDZtW8n0N37d/DhxY8nTyDAefTpCaxn3979e/jx5RMIUN/+fQL59e/n398/QAICBxIsODAAwoQKCTBs6PAhxIgSJxIIYPEiRgIaN3Ls6PEjyJAEApAsaZIAypQqV7Js6fIlgQAyZ9IkYPMmzpw6d/LsSSAA0KBCCRAtavQo0qRKlxII4PQpVAJSp1KtavUq1qwEAnDt6pUA2LBix5Ita/YsgQBq17Il4PYt3Lhy59KtSyAA3rx6CfDt6/cv4MCCBxMIYPgwYgKKFzNu7Pgx5MgEAlCubJkA5syaN3Pu7PkzgQCiR5MmYPo06tT/qlezbk0gAOzYsgnQrm37Nu7cuncTCOD7N3ACwocTL278OPLkwgMwb+6cAPTo0qdTr279OoEA2rdzJ+D9O/jw4seTL08gAPr06gmwb+/+Pfz48ucTCGD/Pn4C+vfz7+8fIAGBAwkWNEgwQEKFCwk0dPgQYkSJEykSCHARY0YCGzl29PgRZEiRBAKUNHmSQEqVK1m2dPkSJoEAM2nWJHATZ06dO3n29EkgQFChQwkUNXoUaVKlS5kSCPAUalQCU6lWtXoVa1atBAJ09fqVQFixY8mWNXsWLYEAa9m2JfAWbly5c+nWtUsgQF69ewn09fsXcGDBgwkTCHAYcWICixk3/3b8GHJkyQQCVLZ8mUBmzZs5d/b8GTSBAKNJlyZwGnVq1atZt3ZNIEBs2bMJ1LZ9G3du3bt51w7wG3hwAsOJFzd+HHly5QQCNHf+nEB06dOpV7d+HTuBANu5dyfwHXx48ePJlzdPIEB69esJtHf/Hn58+fPpEwhwH39+Avv59/cPkIDAgQQLGjw4MIDChQwJOHwIMaLEiRQrEgiAMaNGAhw7evwIMqTIkQQCmDyJkoDKlSxbunwJMyaBADRr2iSAM6fOnTx7+vxJIIDQoUQJGD2KNKnSpUybEggANapUAlSrWr2KNavWrQQCeP0KloDYsWTLmj2LNi2BAGzbuiUAN/+u3Ll069q9SyCA3r18Cfj9Cziw4MGECxMIgDixYgKMGzt+DDmy5MkEAli+jJmA5s2cO3v+DDo0gQCkS5smgDq16tWsW7t+TSCA7Nm0AxC4jTu37t28e/smECC48OEEihs/jjy58uXMCQR4Dj06genUq1u/jj27dgIBunv/TiC8+PHky5s/j55AgPXs2xN4Dz++/Pn069snECC//v0E+vsHSEDgQIIFDR5ESDDAQoYNCTyEGFHiRIoVLRIIkFHjRgIdPX4EGVLkSJIEApxEmZLASpYtXb6EGVMmgQA1bd4kkFPnTp49ff4ESiDAUKJFCRxFmlTpUqZNnRIIEFXqVAL/Va1exZpV61auBAJ8BRuWwFiyZc2eRZtWLYEAbd2+JRBX7ly6de3exUsgwF6+fQn8BRxY8GDChQ0TCJBY8WICjR0/hhxZ8mTKBAJcxpyZwGbOnT1/Bh1aNIEApU2fJpBa9WrWrV2/hp06wGzatQncxp1b927evX0TCBBc+HACxY0fR55c+XLmBAI8hx6dwHTq1a1fx55dO4EA3b1/JxBe/Hjy5c2fR08gwHr27Qm8hx9f/nz69e0TCJBf/34C/f0DJCBwIMGCBg8iJBhgIcOGBB5CjChxIsWKFgkEyKhxI4GOHj+CDClyJEkCAU6iTElgJcuWLl/CjCmTQICaNm8S/8ipcyfPnj5/AiUQYCjRogSOIk2qdOlSAE6fQo0KNQDVqlYBYM2qdStXAl6/AggrdizZsQHOok0LYC3btm7fEogrFwDdunbv2g2gdy9fAH7/Ag4smADhwgAOI06sOHGAxgMEDBAwQEAAAJYvY86smQDnzgA+gw4tOnSAAAIGCBggYICAAQBew44tezaB2rYB4M6te7fuAAMEDBAwQMAAAQMAIE+ufDlzAs6fA4gufTp16gIGCBggYICAAQICAAgvfjx58gTOowegfj379u0HCBggYICAAQIGCACgfz///v0BEhA4EEBBgwcRIhQwQMAAAQMEDBAQAEBFixcxYiSwkf8jAI8fQYYMOUDAAAEDBAwQMCAAAJcvYcaMSYBmTQA3cebUqTPAAAEDBAwQMEBAAABHkSZVqpRAU6cAoEaVOnVqgAACBggYIGBAgAAAwIYVO3YsAbNnAaRVu5Yt2wBv3wKQO5duXbt0CeTVC4BvX79/AQcWPPgvAcOHASRWvJhxY8ePITMmMJkyAMuXMWfWvJlzZ8+fQYcWDYBAadMAUKdWvZp1a9evVxOQPRtAbdu3cefWvZs3bgK/gQMQPpx4cePHkScvToB5cwDPoUeXPp16devSCWTXDoB7d+/fwYcXP/47AfPnAaRXv559e/fv4bMnMJ8+APv38efXv59///xeAAkIHAigoMGDCBMqXMgQIYGHEAFInEixosWLGDNWJMCxI4CPIEOKHEmypEmRBFKqBMCypcuXMGPKnPmSgM2bAHLq3Mmzp8+fQHkSGEoUgNGjSJMqXcq0aVICUKMGBAAh/wtORVRTQ0FQRTIuMAMBAAAALAMBrAA9AI8AggAAAMyZZmZmzJmZzP///wAAAAAAAAAAAAj/AAkIHEiwoEGBARIGIMCwocOHECNKnAgxgMWLGAlo3Mixo8ePIEN6DECypEkCKFOqXMmypcuXLAPInEmTgM2bOHPq3Mmzp84AQIMKJUC0qNGjSJMqXYo0gNOnUAlInUq1qtWrWLNaDcC1q1cCYMOKHUu2rNmzZAOoXcuWgNu3cOPKnUu3rtwAePPqJcC3r9+/gAMLHgw4gOHDiAkoXsy4sePHkCM7DkC5smUCmDNr3sy5s+fPnAOIHk2agOnTqFOrXs26teoAsGPLJkC7tu3buHPr3o07gO/fwAkIH068uPHjyJMbD8C8uXMC0KNLn069uvXr1ANo386dgPfv4MOL/x9Pvrz4AOjTqyfAvr379/Djy58PP4D9+/gJ6N/Pv79/gAQEDiRY0OBBgQEULmRIwOFDiBElTqRYUWIAjBk1EuDY0eNHkCFFjgQZwORJlARUrmTZ0uVLmDFdBqBZ02YAAjl17uTZ0+dPoD0DDCValMBRpEmVLmXa1OnSAFGlTiVQ1epVrFm1buWaNcBXsGEJjCVb1uxZtGnVng3Q1u1bAnHlzqVb1+5dvHUD7OXbl8BfwIEFDyZc2PDgAIkVLybQ2PFjyJElT6YcOcBlzJkJbObc2fNn0KFFfw5Q2vRpAqlVr2bd2vVr2K0DzKZdm8Bt3Ll17+bd2/fuAMGFDydQ3P/4ceTJlS9nnjzAc+jRCUynXt36dezZtV8P0N37dwLhxY8nX978efTlA6xn357Ae/jx5c+nX9/+/AD59e8n0N8/QAICBxIsaPAgwoQBFjJsSOAhxIgSJ1KsaHFigIwaNxLo6PEjyJAiR5IMGeAkypQEVrJs6fIlzJgyXwaoafMmgZw6d/Ls6fMn0J4BhhItSuAo0qRKlzJt6nRpgKhSpxKoavUq1qxat3LNGuAr2LAExpIta/Ys2rRqzwZo6/Ytgbhy59Kta/cu3roB9vLtS+Av4MCCBxMubHhwgMSKFxNo7Pgx5MiSJ1OOHOAy5swENnPu7Pkz6NCiPwcobfo0gdT/qlezbu36NezWAWbTrk3gNu7cunfz7u17d4DgwocTKG78OPLkypczTx7gOfToBKZTr279Ovbs2q8H6O79O4Hw4seTL2/+PPryAdazb0/gPfz48ufTr29/foD8+vcT6O8fIAGBAwkWNHgQYcIACxk2JPAQYkSJEylWtDgxQEaNGwl09PgRZEiRI0mGDHASZUoCK1m2dPkSZkyZLwPUtHmTQE6dO3n29PkTaM8AQ4kWJXAUaVKlS5k2dbo0QFSpUwlUtXoVa1atW7lmDfAVbFgCY8mWNXsWbVq1ZwO0dfuWQFy5c+nWtXsXr90Ae/n2JfAXcGDBgwkXNjw4QGLFiwk0/3b8GHJkyZMpRw5wGXNmAps5d/b8GXRo0Z8DlDZ9mkBq1atZt3b9GnbrALNp1yZwG3du3bt59/a9O0Bw4cMJFDd+HHly5cuZJw/wHHp0AtOpV7d+HXt27dcDdPf+nUB48ePJlzd/Hn35AOvZtyfwHn58+fPp17c/P0B+/fsJ9PcPkIDAgQQLGjyIMGGAhQwbEngIMaLEiRQrWpwYIKPGjQQ6evwIMqTIkSRDBjiJMiWBlSxbunwJM6bMlwFq2rxJIKfOnTx7+vwJtGeAoUSLEjiKNKnSpUybOl0aIKrUqQSqWr2KNavWrVyzBvgKNiyBsWTLmj2LNq3aswHaun1LIP+u3Ll069q9i7dugL18+xL4Cziw4MGECxseHCCx4sUEGjt+DDmy5MmUIwe4jDkzgc2cO3v+DDq06M8BSps+TSC16tWsW7t+Dbt1gNm0axO4jTu37t28e/veHSC48OEEihs/jjy58uXMkwd4Dj06genUq1u/jj279usBunv/TiC8+PHky5s/j758gPXs2xN4Dz++/Pn069ufHyC//v0E+vsHSEDgQIIFDR5EmDDAQoYNCTyEGFHiRIoVLU4MkFHjRgIdPX4EGVLkSJIhA5xEmZLASpYtXb6EGVPmywA1bd4kkFPnTp49ff4E2jPAUKJFCRxFmlTpUqZNnS4NEFXqVAL/Va1exZpV61auWQN8BRuWwFiyZc2eRZtW7dkAbd2+JRBX7ly6de3exVs3wF6+fQn8BRxY8GDChQ0PDpBY8WICjR0/hhxZ8mTKkQNcxpyZwGbOnT1/Bh1a9OcApU2fJpBa9WrWrV2/hu06wGzatQncxp1b927evX3vDhBc+HACxY0fR55c+XLmyQM8hx6dwHTq1a1fx55d+/UA3b1/JxBe/Hjy5c2fR18+wHr27Qm8hx9f/nz69e3PD5Bf/34C/f0DJCBwIMGCBg8iTBhgIcOGBB5CjChxIsWKFicGyKhxI4GOHj+CDClyJMmQAU6iTElgJcuWLl/CjCnzZYCaNm8S/8ipcyfPnj5/Au0ZYCjRogSOIk2qdClTpACeQo0qVWqAqlavAsiqdStXrgS+gg1LAADZsmbPng2gdi1bAG7fwo0blwDdunYJAMirdy9fvgH+Ag4MYDDhwoYNE0iseDEBAI4fQ44cOUCAAQIGCBggIEAAAJ4/gw4dmgDp0qYJAEitejVr1gEEDBAwQMAAAQMCAMitezdv3gR+Aw9OAADx4saPHx8gYICAAQIGCBggAAD16tavXyegfTt3AgC+gw8vXryAAQIGCBggYICAAQDew48vXz6B+vbvEwCgfz///v0BDhAwQMAAAQMEDBAAgGFDhw8fEpA4kSIBABcxZtSoUf/AAAEDBAwQMEDAAAAnUaZUqZJAS5cvCQCQOZNmzZoDBAwQMEDAAAEDBAAQOpRo0aIEkCZVSgBAU6dPoUINMEDAAAEDBAwQEABAV69fwYIlMJZsWQIA0KZVu3ZtgAACBggYIGBAgAAA8ObVu3cvAb9/ARMAMJhwYcOGAyRODIBxY8ePITsmMJlyZQIAMGfWvJlzZ8+fNxMQPZo0AQCnUadWvZp1a9eqCcSWPZsAANu3cefWvZt3b9+/gQcXrptAcePHCQBQvpx5c+fPoUdvToB6desEAGTXvp17d+/fwXMnMJ58eQIA0KdXv559e/fv1xOQP58+AQD38efXv59/f/+kAAEIFEigoMGDBAAoXMiwocOHECM2JECxokUCADJq3Mixo8ePIDkSGEmyJAEAKFOqXMmypcuXKwnInEmTAICbOHPq3Mmzp0+dBIIKHUoAgNGjSJMqXcq0aVICUKNKJQCgqtWrWLNq3coVK4GvYMMSAEC2rNmzaNOqXXuWgNu3cAkAmEu3rt27ePPqtUugr9+/BAAIHky4sOHDiBMXJsC4sWMCAQEAIf8LTkVUU0NBUEUyLjADAQAAACz3AKwAPgCPAIIAAADMmWZmZsyZmcz///8AAAAAAAAAAAAI/wAJCBxIsKDBAAgREljIsKHDhxAjSpy4MIDFixgJaNzIsaPHjyBDfgxAsqRJAihTqlzJsqXLly0DyJxJk4DNmzhz6tzJs+fOAECDCiVAtKjRo0iTKl2aNIDTp1AJSJ1KtarVq1izXg3AtatXAmDDih1LtqzZs2UDqF3LloDbt3Djyp1Lt+7cAHjz6iXAt6/fv4ADCx4cOIDhw4gJKF7MuLHjx5AjPw5AubJlApgza97MubPnz50DiB5NmoDp06hTq17NuvXqALBjyyZAu7bt27hz696dO4Dv38AJCB9OvLjx48iTHw/AvLlzAtCjS59Ovbr169UDaN/OnYD37+DDi/8fT778+ADo06snwL69+/fw48ufHz+A/fv4Cejfz7+/f4AEBA4kWNDgwYEBFC5kSMDhQ4gRJU6kWHFiAIwZNRLg2NHjR5AhRY4MGcDkSZQEVK5k2dLlS5gxXwagWdMmAZw5de7k2dPnz54BhA4lSsDoUaRJlS5l2nRpAKhRpRKgWtXqVaxZtW7NGsDrV7AExI4lW9bsWbRpzwZg29YtAbhx5c6lW9fu3boB9O7lS8DvX8CBBQ8mXHhwAMSJFRNg3NjxY8iRJU+OHMDyZcwENG/m3NnzZ9ChPwcgXdo0AdSpVa9m3dr169YBZM+mTcD2bdy5de/m3Xt3AODBhRMgXtz/+HHkyZUvTx7A+XPoBKRPp17d+nXs2a8H4N7dOwHw4cWPJ1/e/PnyAdSvZ0/A/Xv48eXPp19/fgD8+fUT4N/fP0ACAgcSLGjwIEKDARYybEjgIcSIEidSrGiRYoCMGjcS6OjxI8iQIkeSFBngJMqUBFaybOnyJcyYMmEGqGnzJoGcOnfy7OnzJ1CfAYYSLUrgKNKkSpcybeqUaYCoUqcSqGr1KtasWrdy1RrgK9iwBMaSLWv2LNq0atEGaOv2LYG4cufSrWv3Ll67Afby7UvgL+DAggcTLmyYcIDEihcTaOz4MeTIkidTlhzgMubMBDZz7uz5M+jQokEHKG36NIHU/6pXs27t+jVs1wFm065N4Dbu3Lp38+7tm3eA4MKHEyhu/Djy5MqXM1ce4Dn06ASmU69u/Tr27NqxB+ju/TuB8OLHky9v/jx68wHWs29P4D38+PLn069vn36A/Pr3E+jvHyABgQMJFjR4EGFCAgEYNnRIAGJEiRMpVrR4sWIAjRs5EvD4EWRIkSNJlhwZAGVKlQRYtnT5EmZMmTNjBrB5EycBnTt59vT5E2jQnwGIFjVKAGlSpUuZNnX6tGkAqVOpErB6FWtWrVu5dt0aAGxYsQTIljV7Fm1atWvTBnD7Fi4BuXPp1rV7F2/euwH49vVLAHBgwYMJFzZ8uHAAxYsZE/9w/BhyZMmTKVeeHABzZs0EOHf2/Bl0aNGjQwcwfRo1AdWrWbd2/Rp27NcBaNe2TQB3bt27eff2/bt3AOHDiRMwfhx5cuXLmTdfHgB6dOkEqFe3fh17du3bswfw/h08AfHjyZc3fx59+vMB2Ld3TwB+fPnz6de3f79+AP37+RPwD5CAwIEECxo8iDAhwQAMGzokADGixIkUK1q8WDGAxo0cCXj8CDKkyJEkS44MgDKlSgIsW7p8CTOmzJkxA9i8iZOAzp08e/r8CTTozwBEixolgDSp0qVMmzp92jSA1KlUCVi9ijWr1q1cu24NADasWAJky5o9izat2rVpA7h9C5f/gNy5dOvavYs3790AfPv6JQA4sODBhAsbPlw4gOLFjAk4fgw5suTJlCtPDoA5s2YCnDt7/gw6tOjRoQOYPo2agOrVrFu7fg07tusAtGvbJoA7t+7dvHv7/t07gPDhxAkYP448ufLlzJsvDwA9unQC1Ktbv449u/bt2QN4/w6egPjx5MubP48+/fkA7Nu7JwA/vvz59Ovbv18/gP79/An4B0hA4ECCBQ0eRJiQYACGDR0SgBhR4kSKFS1erBhA40aOBDx+BBlS5EiSJUcGQJlSJQGWLV2+hBlT5syYAWzexElA506ePX3+BBr0ZwCiRY0SQJpU6VKmTZ0+bRpA6lSq/wSsXsWaVetWrl23BgAbViwBsmXNnkWbVu3atAHcvoVLQO5cunXt3sWb924Avn39EgAcWPBgwoUNHy4cQPFixgQcP4YcWfJkypUnB8CcWTMBzp09fwYdWvTo0AFMn0ZNQPVq1q1dv4Yd+3UA2rVtE8CdW/du3r19/+4dQPhw4gSMH0eeXPly5s2XB4AeXToB6tWtX8eeXfv27AG8fwdPQPx48uXNn0ef/nwA9u3dE4AfX/58+vXt368fQP9+/gT8AyQgcCDBggYPIkxIMADDhg4JQIwocSLFihYvVgygcSNHAh4/ggwpciTJkiMDoEypkgDLli5fwowpc2bMADZv4v8koHMnz54+fwIN+jMA0aJGCSBNqnQp06ZKAUCNKnXq1ABWr2IFoHUr165dCYANKxYsgLJmz6JFG2At27YA3sKNK1cugbp279YFoHcv3759AwAOLBgA4cKGDx8moHgxY8UAHkOOLFlygMoDBAwQMCBAAACeP4MOHZoA6dKmSQNIrXo1a9YBBggYIGCAgAECAgDIrXs3b94EfgMP/hsA8eLGjx8PIGCAgAECBggYIAAA9erWr18noH07d+0AvoMPL158gAECBggYIGCAgAEA3sOPL18+gfr279cHoH8///79AQoYIGCAgAECBggYAIBhQ4cPHxKQOJGiRAAXMWbUqDH/wAABAwQMEDBAwAAAJ1GmVKmSQEuXL1sCkDmTZs2aAQQMEDBAwAABAwQAEDqUaNGiBJAmVYoUQFOnT6FCDTBAwAABAwQMEBAAQFevX8GCJTCWbNmxANCmVbt2bQC3AgYIGCAgQAAAd/Hm1auXQF+/f/sCEDyYcGHDhAMkTgyAcWPHjx8TkDyZsmQAlzFn1ryZc2fPmgmEFj06NADTp1GnVr2adevUBGDHlg0bQG3bt3Hn1r2bd2/fv4EH102AeHHjxAEkV76ceXPnz6EzJzCdevXpALBn176de3fv37cTED+evHgA59GnV7+efXv36gnElz8/PgD79/Hn17+ff//8oAAJCBxIUCCAgwgTKlzIsKFDhQQiSpwYEYDFixgzatzIsWNGAiBDigQJoKTJkyhTqlzJEiWBlzBjvgRAs6bNmzhz6tx5k4DPn0B9AhhKtKjRo0iTKjVKoKnTp00BSJ1KtarVq1izViXAtatXrgDCih1LtqzZs2jJEljLtu1aAHDjyp1Lt67du3MJ6N3LVy+Av4ADCx5MuLBhwQQSK16cOCAAIf8LTkVUU0NBUEUyLjADAQAAACzsAKwAPQCPAIIAAADMmWZmZsyZmcz///8AAAAAAAAAAAAI/wAJCBxIsKBBgQESEljIsKHDhxAjSpzIMIDFixgJaNzIsaPHjyBDegxAsqRJAihTqlzJsqXLlywDyJxJk4DNmzhz6tzJs6fOAECDCiVAtKjRo0iTKl2KNIDTp1AJSJ1KtarVq1izWg3AtatXAmDDih1LtqzZs2QDqF3LloDbt3Djyp1Lt67cAHjz6iXAt6/fv4ADCx4MOIDhw4gJKF7MuLHjx5AjOw5AubJlApgza97MubPnz5sDiB5NmoDp06hTq17NurXqALBjyyZAu7bt27hz696NO4Dv38AJCB9OvLjx48iTGw/AvLlzAtCjS59Ovbr169QDaN/OnYD37+DDi/8fT768+ADo06snwL69+/fw48ufDz+A/fv4Cejfz7+/f4AEBA4kWNDgQYEBFC5kSMDhQ4gRJU6kWFFiAIwZNRLg2NHjR5AhRY4EGcDkSZQEVK5k2dLlS5gxXQagWdMmAZw5de7k2dPnT54BhA4lSsDoUaRJlS5l2lRpAKhRpRKgWtXqVaxZtW7FGsDrV7AExI4lW9bsWbRpzQZg29YtAbhx5c6lW9fuXboB9O7lS8DvX8CBBQ8mXFhwAMSJFRNg3NjxY8iRJU+GHMDyZcwENG/m3NnzZ9ChPQcgXdo0AdSpVa9m3dr1a9YBZM+mTcD2bdy5de/m3Vt3AODBhRMgXtz/+HHkyZUvRx7A+XPoBKRPp17d+nXs2a0H4N7dOwHw4cWPJ1/e/HnyAdSvZ0/A/Xv48eXPp19ffgD8+fUT4N/fP0ACAgcSLGjwIMKCARYybEjgIcSIEidSrGhxYoCMGjcS6OjxI8iQIkeSDBngJMqUBFaybOnyJcyYMl8GqGnzJoGcOnfy7OnzJ9CeAYYSLUrgKNKkSpcybep0aYCoUqcSqGr1KtasWrdyzRrgK9iwBMaSLWv2LNq0as8GaOv2LYG4cufSrWv3Lt66Afby7UvgL+DAggcTLmx4cIDEihcTaOz4MeTIkidTjhzgMubMBDZz7uz5M+jQoj8HKG36NIHU/6pXs27t+jXs1gFm065N4Dbu3Lp38+7te3eA4MKHEyhu/Djy5MqXM08e4Dn06ASmU69u/Tr27NqvB+ju/TuB8OLHky9v/jz68gHWs29P4D38+PLn069vf36A/Pr3E+jvHyABgQMJFjR4EGHCAAsZNiTwEGJEiRMpVrQoMUBGjRsJdPT4EWRIkSNJhgxwEmVKAitZtnT5EmZMmS8D1LR5k0BOnTt59vT5E2jPAEOJFiVwFGlSpUuZNnW6NEBUqVMJVLV6FWtWrVu5Zg3wFWxYAmPJljV7Fm1atWcDtHX7lkBcuXPp1rV7F2/dAHv59iXwF3BgwYMJFzY8OEBixYsJNP92/BhyZMmTKUcOcBlzZgKbOXf2/Bl0aNGfA5Q2fZpAatWrWbd2/Rp26wCzadcmcBt3bt27eff2vTtAcOHDCRQ3fhx5cuXLmScP8Bx6dALTqVe3fh17du3XA3T3/p1AePHjyZc3fx59+QDr2bcn8B5+fPnz6de3Pz9Afv37CfT3D5CAwIEECxo8iDBhgIUMGxJ4CDGixIkUK1qcGCCjxo0EOnr8CDKkyJEkQwY4iTIlgZUsW7p8CTOmzJcBatq8SSCnzp08e/r8CbRngKFEixI4ijSp0qVMmzpdGiCq1KkEqlq9ijWr1q1cswb4CjYsgbFky5o9izat2rMB2rp9SyD/rty5dOvavYu3boC9fPsS+As4sODBhAsbHhwgseLFBBo7fgw5suTJlCMHuIw5M4HNnDt7/gw6tOjPAUqbPk0gterVrFu7fg27dYDZtGsTuI07t+7dvHv73h0guPDhBIobP448ufLlzJMHeA49OoHp1Ktbv449u/brAbp7/04gvPjx5MubP4++fID17NsTeA8/vvz59Ovbnx8gv/79BPr7B0hA4ECCBQ0eRJgwwEKGDQk8hBhR4kSKFS1ODJBR40YCHT1+BBlS5EiSIQOcRJmSwEqWLV2+hBlT5ssANW3eJJBT506ePX3+BNozwFCiRQkcRZpU6VKmTZ0uDRBV6lQC/1WtXsWaVetWrlkDfAUblsBYsmXNnkWbVu3ZAG3dviUQV+5cunXt3sVbN8Bevn0J/AUcWPBgwoUNCw6QWPFiAo0dP4YcWfJkypEDXMacmcBmzp09fwYdWvTnAKVNnyaQWvVq1q1dv4bdOsBs2rUJ3MadW/du3r197w4QXPhwAsWNH0eeXPly5skDPIcencB06tWtX8eeXfv1AN29fycQXvx48uXNn0dfPsB69u0JvIcfX/58+vXtzw+QX/9+Av39AyQgcCDBggYPIkwYYCHDhgQeQowocSLFihYnBsiocSOBjh4/ggwpciTJkAFOokxJYCXLli5fwowp82WAmjZvEv/IqXMnz54+fwLtGWAo0aIEjiJNqnQpU6QAnkKNKlVqgKpWrwLIqnUrV64EvoINSwAA2bJmz54NoHYtWwBu38KNG5cA3bp2CQDIq3cvX74B/gIODGAw4cKGDRNIrHgxAQCOH0OOHDlAgAECBggYICBAAACeP4MOHZoA6dKmCQBIrXo1a9YBBAwQMEDAAAEDAgDIrXs3b94EfgMPTgAA8eLGjx8fIGCAgAECBggYIAAA9erWr18noH07dwIAvoMPL168gAECBggYIGCAgAEA3sOPL18+gfr27xMAoH8///79AQ4QMEDAAAEDBAwQAIBhQ4cPHxKQOJEiAQAXMWbUqFH/wAABAwQMEDBAwAAAJ1GmVKmSQEuXLwkAkDmTZs2aAwQMEDBAwAABAwQAEDqUaNGiBJAmVUoAQFOnT6FCDTBAwAABAwQMEBAAQFevX8GCJTCWbFkCANCmVbt2bYAAAgYIGCBgQIAAAPDm1bt3LwG/fwETADCYcGHDhwsHUKwYQGPHjyFDJjCZcmUCADBn1ryZc2fPnzcTED2aNAEAp1GnVr2adWvXqgnElj2bAADbt3Hn1r2bd2/fv4EHF66bQHHjxwkAUL6ceXPnz6FHb06AenXrBABk176de3fv38FzJzCefHkCANCnV7+efXv379cTkD+fPgEA9/Hn17+ff3//pAABCBRIoKDBgwQAKFzIsKHDhxAjNiRAsaJFAgAyatzIsaPHjyA5EhhJsiQBAChTqlzJsqXLlysJyJxJkwCAmzhz6tzJs6dPnQSCCh1KAIDRo0iTKl3KtGlSAlCjSiUAoKrVq1izat3KFSuBr2DDEgBAtqzZs2jTql17loDbt3AJAJhLt67du3jz6rVLoK/fvwQACB5MuLDhw4gTFybAuLFjAgEBACH/C05FVFNDQVBFMi4wAwEAAAAs4QCsAD0AjwCCAAAAzJlmZmbMmZnM////AAAAAAAAAAAACP8ACQgcSLCgwYIBAhBYyLChw4cQI0qc2DCAxYsYCWjcyLGjx48gQ3oMQLKkSQIoU6pcybKly5csA8icSZOAzZs4c+rcybOnzgBAgwolQLSo0aNIkypdijSA06dQCUidSrWq1atYs1oNwLWrVwJgw4odS7as2bNkA6hdy5aA27dw48qdS7eu3AB48+olwLev37+AAwseDDiA4cOICShezLix48eQIzsOQLmyZQKYM2vezLmz58+bA4geTZqA6dOoU6tezbq16gCwY8smQLu27du4c+vejTuA79/ACQgfTry48ePIkxsPwLy5cwLQo0ufTr269evUA2jfzp2A9+/gw4v/H0++vPgA6NOrJ8C+vfv38OPLnw8/gP37+Ano38+/v3+ABAQOJFjQ4EGBARQuZEjA4UOIESVOpFhRYgCMGTUS4NjR40eQIUWOBBnA5EmUBFSuZNnS5UuYMV0GoFnTJgGcOXXu5NnT50+eAYQOJUrA6FGkSZUuZdpUaQCoUaUSoFrV6lWsWbVuxRrA61ewBMSOJVvW7Fm0ac0GYNvWLQG4ceXOpVvX7l26AfTu5UvA71/AgQUPJlxYcADEiRUTYNzY8WPIkSVPhhzA8mXMBDRv5tzZ82fQoT0HIF3aNAHUqVWvZt3a9WvWAWTPpk3A9m3cuXXv5t1bdwDgwYUTIF7c//hx5MmVLz8ewPlz6AEITKde3fp17Nm1Ww/Q3ft3AuHFjydf3vx59OUDrGffnsB7+PHlz6df3/78APn17yfQ3z9AAgIHEixo8CDChAEWMmxI4CHEiBInUqxocWKAjBo3Eujo8SPIkCJHkgwZ4CTKlARWsmzp8iXMmDJfBqhp8yaBnDp38uzp8yfQngGGEi1K4CjSpEqXMm3qdGmAqFKnEqhq9SrWrFq3cs0a4CvYsATGki1r9izatGrPBmjr9i2BuHLn0q1r9y7eugH28u1L4C/gwIIHEy5seHCAxIoXE2js+DHkyJInU44c4DLmzAQ2c+7s+TPo0KI/Byht+jSB1P+qV7Nu7fo17NYBZtOuTeA27ty6d/Pu7Xt3gODChxMobvw48uTKlzNPHuA59OgEplOvbv069uzarwfo7v07gfDix5Mvb/48+vIB1rNvT+A9/Pjy59Ovb39+gPz69xPo7x8gAYEDCRY0eBAhwgALGTYk8BBiRIkTKVa0ODFARo0bCXT0+BFkSJEjSYYMcBJlSgIrWbZ0+RJmTJkvA9S0eZNATp07efb0+RNozwBDiRYlcBRpUqVLmTZ1ujRAVKlTCVS1ehVrVq1buWYN8BVsWAJjyZY1exZtWrVnA7R1+5ZAXLlz6da1exdv3QB7+fYl8BdwYMGDCRc2PDhAYsWLCTT/dvwYcmTJkylHDnAZc2YCmzl39vwZdGjRnwOUNn2aQGrVq1m3dv0adusAs2nXJnAbd27du3n39r07QHDhwwkUN34ceXLly5knD/AcenQC06lXt34de3bt1wN09/6dQHjx48mXN38effkA69m3J/Aefnz58+nXtz8/QH79+wn09w+QgMCBBAsaPIgwYYCFDBsSeAgxosSJFCtanBggo8aNBDp6/AgypMiRJEMGOIkyJYGVLFu6fAkzpsyXAWravEkgp86dPHv6/AmUZ4ChRIsSOIo0qdKlTJs6XRogqtSpBKpavYo1q9atXLMG+Ao2LIGxZMuaPYs2rdqzAdq6fUsg/67cuXTr2r2Lt26AvXz7EvgLOLDgwYQLGx4cILHixQQaO34MObLkyZQjB7iMOTOBzZw7e/4MOrTozwFKmz5NILXq1axbu34Nu3WA2bRrE7iNO7fu3bx7+94dILjw4QSKGz+OPLny5cyTB3gOPTqB6dSrW7+OPbv26wG6e/9OILz48eTLmz+PvnyA9ezbE3gPP778+fTr258fIL/+/QT6+wdIQOBAggUNHkSYMMBChg0JPIQYUeJEihUtTgyQUeNGAh09fgQZUuRIkiEDnESZksBKli1dvoQZU+bLADVt3iSQU+dOnj19/gTaM8BQokUJHEWaVOlSpk2dLg0QVepUAv9VrV7FmlXrVq5ZA3wFG5bAWLJlzZ5Fm1bt2QBt3b4lEFfuXLp17d7FSzfAXr59CfwFHFjwYMKFDQ8OkFjxYgKNHT+GHFnyZMqRA1zGnJnAZs6dPX8GHVr05wClTZ8mkFr1atatXb+G3TrAbNq1CdzGnVv3bt69fe8OEFz4cALFjR9Hnlz5cubJAzyHHp3AdOrVrV/Hnl379QDdvX8nEF78ePLlzZ9HXz7AevbtCbyHH1/+fPr17c8PkF//fgL9/QMkIHAgwYIGDyJMGGAhw4YEHkKMKHEixYoWJwbIqHEjgY4eP4IMKXIkyZABTqJMSWAly5YuX8KMKfNlgJo2bxL/yKlzJ8+ePn8C7RlgKNGiBI4iTap0KdOjAJ5CjSp1aoCqVq8CyKp1K9etBL6CDUsAANmyZs+iDaB2LVsAbt/CjQuXAN26dgkAyKt3L9++Af4CDgxgMOHChgsTSKx4MQEAjh9Djiw5wAABAwQMEBBgM4DOnj+D/kxgNOnSBACgTq16NWsBAwQMEDBAwIAAAQDgzq17t24Cvn8DJwBgOPHixo8PEDBAwAABAwQMCABgOvXq1qsTyK59OwEA3r+DDx8+gIABAgYIGCBggIAAAN7Djy8/PoH69u8TAKB/P//+/QEOEDBAwAABAwQMEACAYUOHDx8SkDiRIgEAFzFm1Kgx/8AAAQMEDBAwQMAAACdRplSpkkBLly8JAJA5k2bNmgEEDBAwQMAAAQMEABA6lGjRogSQJlVKAEBTp0+hQg0wQMAAAQMEDBAQAEBXr1/BgiUwlmxZAgDQplW7dm2AAAMEDBAwQECAAADw5tW7dy8Bv38BEwAwmHBhw4cLB1CsGEBjx48hQyYwmXJlAgAwZ9a8mXNnz583ExA9mjQBAKdRp1a9mnVr16oJxJY9mwAA27dx59a9m3dv37+BBxeum0Bx48cJAFC+nHlz58+hR29OgHp16wQAZNe+nXt379/Bcycwnnx5AgDQp1e/nn179+/XE5A/nz4BAPfx59e/n39//6QAAQgUSKCgwYMEAChcyLChw4cQIzYkQLGiRQIAMmrcyLGjx48gORIYSbIkAQAoU6pcybKly5crCcicSZMAgJs4c+rcybOnT50EggodSgCA0aNIkypdyrRpUgJQo0olAKCq1atYs2rdyhUrga9gwxIAQLas2bNo06pde5aA27dwCQCYS7eu3bt48+q1S6Cv378EAAgeTLiw4cOIExcmwLixYwIBAQAh/wtORVRTQ0FQRTIuMAMBAAAALNoArAA5AI8AggAAAMyZZmZmzJmZzP///wAAAAAAAAAAAAj/AAkIHEiwoEGDAQgoXMiwocOHECNKJBCgosWLBDJq3Mixo8ePIDMGGEmyJIGTKFOqXMmypcuTAWLKnEmgps2bOHPq3MmzZoCfQIMSGEq0qNGjSJMqHRqgqdOnBKJKnUq1qtWrWKMG2Mq1K4GvYMOKHUu2rNmvAdKqXUugrdu3cOPKnUuXQIC7ePMGIMC3r9+/gAMLHkwggOHDiAkoXsy4sePHkCMrDkC5smUCmDNr3sy5s+fPmAOIHk2agOnTqFOrXs26tekAsGPLJkC7tu3buHPr3k07gO/fwAkIH068uPHjyJMLD8C8uXMC0KNLn069uvXr0ANo386dgPfv4MOL/x9Pvrz3AOjTqyfAvr379/Djy5/PPoD9+/gJ6N/Pv79/gAQEDiRY0GDBAAkVLiTQ0OFDiBElTqTYMMBFjBkJbOTY0eNHkCFFbgxQ0uRJAilVrmTZ0uVLmCkDzKRZk8BNnDl17uTZ0+fNAEGFDiVQ1OhRpEmVLmVaNMBTqFEJTKVa1epVrFm1Tg3Q1etXAmHFjiVb1uxZtAQCrGXblsBbuHHlzqVb1+7bAHn17iXQ1+9fwIEFDybcN8BhxIkJLGbc2PFjyJElLw5Q2fJlApk1b+bc2fNn0JkDjCZdmsBp1KlVr2bd2vXpALFlzyZQ2/Zt3Ll17+ZdO8Bv4MEJDCde3P/4ceTJlQ8P0Nz5cwLRpU+nXt36dezRA2zn3p3Ad/DhxY8nX9789wDp1a8n0N79e/jx5c+n3z7Affz5Cezn398/QAICBxIsaPAgwQAKFzIk4PAhxIgSJ1Ks6DAAxowaCXDs6PEjyJAiR3IMYPIkSgIqV7Js6fIlzJgqA9CsaZMAzpw6d/Ls6fMnzgBChxIlYPQo0qRKlzJtSiAA1KhSCVCtavUq1qxat1IN4PUrWAJix5Ita/Ys2rRiA7Bt65YA3Lhy59Kta/cu3AB69/Il4Pcv4MCCBxMu7DcA4sSKCTBu7Pgx5MiSJzMOYPkyZgKaN3Pu7Pkz6NCaA5AubZoA6tT/qlezbu36NeoAsmfTJmD7Nu7cunfz7m07APDgwgkQL278OPLkypcTD+D8OXQC0qdTr279Ovbs0gNw7+6dAPjw4seTL2/+PPgA6tezJ+D+Pfz48ufTr+8+AP78+gnw7+8fIAGBAwkWNHgQIYEACxk2JPAQYkSJEylWtPgwQEaNGwl09PgRZEiRI0l2DHASZUoCK1m2dPkSZkyZBALUtHkzAAGdO3n29PkTaFACAYgWNUoAaVKlS5k2dfoUaQCpU6kSsHoVa1atW7l2tRoAbFixBMiWNXsWbVq1a8kGcPsWLgG5c+nWtXsXb165Afj29UsAcGDBgwkXNnwYcADFixkT/3D8GHJkyZMpV3YcAHNmzQQ4d/b8GXRo0aM5BzB9GjUB1atZt3b9GnZs1QFo17ZNAHdu3bt59/b9G3cA4cOJEzB+HHly5cuZNzceAHp06QSoV7d+HXt27dupB/D+HTwB8ePJlzd/Hn168QHYt3dPAH58+fPp17d/H34A/fv5E/APkIDAgQQLGjyIEGGAhQwbEngIMaLEiRQrWnwYIKPGjQQ6evwIMqTIkSQJBDiJMiWBlSxbunwJM6bMlQFq2rxJIKfOnTx7+vwJNGeAoUSLEjiKNKnSpUybOj0aIKrUqQSqWr2KNavWrVyrBvgKNiyBsWTLmj2LNq3asQHaun1LIP+u3Ll069q9izdugL18+xL4Cziw4MGECxv+GyCx4sUEGjt+DDmy5MmUGwe4jDkzgc2cO3v+DDq06M0BSps+TSC16tWsW7t+DTt1gNm0axO4jTu37t28e/u+HSC48OEEihs/jjy58uXMiwd4Dj06genUq1u/jj279ukBunv/TiC8+PHky5s/jz58gPXs2xN4Dz++/Pn069t/HyC//v0E+vsHSEDgQIIFDR5ESDDAQoYNAxCAGFHiRIoVLV4kEEDjRo4EPH4EGVLkSJIlPQZAmVIlAZYtXb6EGVPmTJYBbN7ESUDnTp49ff4EGlRnAKJFjRJAmlTpUqZNnT5FGkDqVKr/BKxexZpV61auXa0GABtWLAGyZc2eRZtW7VqyAdy+hUtA7ly6de3exZtXbgC+ff0SABxY8GDChQ0fBhxA8WLGBBw/hhxZ8mTKlR0HwJxZMwHOnT1/Bh1a9GjOAUyfRk1A9WrWrV2/hh1bdQDatW0TwJ1b927evX3/xh1A+HDiBIwfR55c+XLmzY0HgB5dOgHq1a1fx55d+3bqAbx/B09A/Hjy5c2fR59efAD27d0TgB9f/nz69e3fJxBA/37+BPwDJCBwIMGCBg8iRBhgIcOGBB5CjChxIsWKFh8GyKhxI4GOHj+CDClyJMmOAU6iTElgJcuWLl/CjClzZYCaNm8S/8ipcyfPnj5/As0ZYCjRogSOIk2qdOlSAE6fQo0aNQDVqlYBYM2qdetWAl6/EgAgdizZsmUDoE2rFgDbtm7fviUgdy4BAHbv4s2bNwDfvn4BAA4sePBgAoYPEwCgeDHjxo0DBBggYICAAQICBACgeTPnzp0JgA5NAADp0qZPnw4gYICAAQIGCBgQAADt2rZv3yagezcBAL5/Aw8efICAAQIGCBggYEAAAM6fQ48enQD16gQAYM+ufft2AQMEDBAwQMAAAQMAoE+vfv16Au7fEwAgfz79+vUHCBggYICAAQIADhAAgGBBgwcPElC4kAAAhw8hRowoYICAAQIGCBggYP8AAI8fQYYMSYBkSQIAUKZUuXLlAAEDBAwQMEDAgAAAcObUuXMnAZ8/CQAQOpRoUaIBAgwQMEDAAAEDBACQOpVqVasEsGYlAIBrV69fvQYQK2CAgAECBgQAsJZtW7dvCcSVSwBAXbt38ea1G4AvXwB/AQcWPJhAYcMEACRWvJhxY8ePITMmMJkyAQCXMWfWvJlzZ8+aCYQWTQBAadOnUadWvZp1a9evYccuTYB2bQIAcOfWvZt3b9+/dxMQPpwAAOPHkSdXvpx58+QEoEcnAIB6devXsWfXvv06Ae/fCQAQP558efPn0acvT4B9ewIA4MeXP59+ffv35xPQv58AAP+BAAEIHEiwoMGDCBMKJMCwIQEAECNKnEixosWLEwlo3EgAgMePIEOKHEmyZEgCKFMSAMCypcuXMGPKnPmSgM2bBADo3Mmzp8+fQIP2JEC0KAEASJMqXcq0qdOnSwlInUoAgNWrWLNq3cq1a1YCYMMSAEC2rNmzaNOqXXuWgNu3BAICACH/C05FVFNDQVBFMi4wAwEAAAAs1gCsADYAjwCCAAAAzJlmZmbMmZnM////AAAAAAAAAAAACP8ACQgcSLCgwYMBCChcyLChw4cQI0IMQLGiRQIYM2rcyLGjR48BQoocSaCkyZMoU6pcuTKAy5cwCcicSbOmzZs4cQbYybMngZ9AgwodSrQo0QBIkyolwLSp06dQo0qVGqCq1asEsmrdyrWr169fA4gdS5aA2bNo06pdy5ZtgLdw4xKYS7eu3bt48+YNwLevXwKAAwseTLiwYcMBEiteTKCx48eQI0uePDmA5cuYCWjezLmz58+gQQcYTbo0gdOoU6tezbp16wCwY8smQLu27du4c+vWHaC3798EggsfTry48ePHAyhfzpyA8+fQo0ufTp16gOvYsxPYzr279+/gw4f/D0C+vHkC6NOrX8++vXv3AeLLn0+gvv37+PPr368/gH+AAQQOFEjA4EGECRUuZLgwwEOIEQlMpFjR4kWMGTMG4NjRIwGQIUWOJFnSpMkAKVWuJNDS5UuYMWXOnBnA5k2cBHTu5NnT50+gQAMMJVqUwFGkSZUuZdq0aQCoUaUSoFrV6lWsWbVqDdDV61cCYcWOJVvW7NmzAdSuZUvA7Vu4ceXOpUs3wF28eQns5dvX71/AgQMHIFzYMAHEiRUvZtzYseMAkSVPJlDZ8mXMmTVv3hzA82fQBESPJl3a9GnUqAOsZt2awGvYsWXPpl27dgDcuXUT4N3b92/gwYUHD1Dc//hxAsmVL2fe3Pnz5wGkT6dOwPp17Nm1b+fOPcB38OEJjCdf3vx59OnTB2Df3j0B+PHlz6df3779APn17yfQ3z9AAgIHEixo8CBCgQEWMmxI4CHEiBInUqxYMQDGjBoJcOzo8SPIkCJFBihp8iSBlCpXsmzp8uXLADJn0iRg8ybOnDp38uQZ4CfQoASGEi1q9CjSpEkDMG3qlADUqFKnUq1q1WqArFq3Eujq9SvYsGLHjg1g9ixaAmrXsm3r9i1cuAHm0q1L4C7evHr38u3LNwDgwIIDEChs+DDixIoXKw7g+DFkApInU65s+TJmzAE2c+5M4DPo0KJHky5dOgDq1P+qCbBu7fo17NiyZQeobfs2gdy6d/Pu7fv37wDChxMnYPw48uTKlzNnHuA59OgEplOvbv069uzZA3Dv7p0A+PDix5Mvb958gPTq1xNo7/49/Pjy588PYP8+fgL69/Pv7x8gAYEDCRY0KDBAQoULCTR0+BBiRIkTJwaweBEjAY0bOXb0+BEkyAAjSZYkcBJlSpUrWbZsGQBmTJkEaNa0eRNnTp06A/T0+ZNAUKFDiRY1etRoAKVLmRJw+hRqVKlTqVINcBVrVgJbuXb1+hVs2LAByJY1SwBtWrVr2bZ16zZAXLlzCdS1exdvXr179wbw+xcwAcGDCRc2fBgx4gCLGTf/JvAYcmTJkylXrhwAc2bNBDh39vwZdGjRogOUNn2aQGrVq1m3dv36dQDZs2kTsH0bd27du3nzDvAbeHACw4kXN34cefLkAZg3d04AenTp06lXt249QHbt2wl09/4dfHjx48cHMH8ePQH169m3d/8ePvwA8+nXJ3Aff379+/n35w8wgMCBBAMQOIgwocKFDBsyDAAxokQCFCtavIgxo0aNATp6/EggpMiRJEuaPHkygMqVLAm4fAkzpsyZNGkGuIkzJ4GdPHv6/Ak0aNAARIsaJYA0qdKlTJs6dRogqtSpBKpavYo1q9atWwN4/QqWgNixZMuaPYsWbYC1bNsSeAs3/67cuXTr1g2AN69eAnz7+v0LOLBgwQEKGz5MILHixYwbO378OIDkyZQJWL6MObPmzZw5B/gMOjSB0aRLmz6NOnXqAKxbuyYAO7bs2bRr27YdILfu3QR6+/4NPLjw4cIDGD+OnIDy5cybO38OHXqA6dSrE7iOPbv27dy7dw8APrx4AuTLmz+PPr169QHau39PIL78+fTr279/P4D+/fwJ+AdIQOBAggUNHkRYMMBChg0JPIQYUeJEihUrBsCYUSMBjh09fgQZUqTIACVNniSQUuVKli1dvnwZQOZMmgRs3sSZU+dOnjwD/AQalMBQokWNHkWaNGkApk2dEoAaVepUqv9VrVoNkFXrVgJdvX4FG1bs2LEBzJ5FS0DtWrZt3b6FCzfAXLp1CdzFm1fvXr59+wYAHFgwAcKFDR9GnFhx4gCNHT8mEFnyZMqVLV++HEDzZs4EPH8GHVr0aNKkA5xGnZrAatatXb+GHTt2ANq1bRPAnVv3bt69ffsOEFz4cALFjR9Hnlz58uUBnD+HTkD6dOrVrU8HkF37du7cA3wHHx7AePLlzZsnkJ4AAPbt3b9/H0D+fPoA7N/Hnz8/Af4EAAAEIHAgwYIEAyBMqBAAw4YOHz4kIJEAgIoWL2LEGCDAAAEDBAwQECAAgJImT6JESWAlAQAuX8KMGTOAgAECBgj/GCBgQAAAPn8CDRqUAFECAI4iTapU6QABAwQMEDBAwIAAAK5izapVK4GuBACADSt27FgBAwQMEDBAwAABAQDAjSt37lwCdgkAyKt3L1++AwQMEDBAwAABAwQASKx4MWPGBB4TACB5MuXKlAMIGCBggIABAgYIACB6NOnSpgmgJgBgNevWrlsHGCBggIABAgYIGABgN+/evn8TCE4AAPHixo8bDxBggIABAgYIGCAAAPXq1q9jJ6CdAIDu3r+D/x5gvIABAgYIGBAAAPv27t/DJyCfAID69u/jz28/AH/+AAACEDiQYMGCBBASALCQYUOHDyFGlOiQQEUCADBm1LiR22NHjx83EhBJAEBJkydRplS5kmVLly9hwiQwkwAAmzdx5tS5k2fPnASAEgAwlGhRo0eRJlVqlEBTAgCgRpU6lWpVq1enEtBKAEBXr1/BhhU7lixYAmcJAFC7lm1bt2/hxm1LgC4BAHfx5tW7l29fv3oJBCYAgHBhw4cRJ1a8+DABxwQARJY8mXJly5cxUyawmQAAz59BhxY9mnTp0ARQEwCwmnVr169hx5btmkBtAgBw59a9m3dv3793ExBOAEBx48eRJ1e+nDlyAs8JAJA+nXp169exZ69OgDuBgAAh/wtORVRTQ0FQRTIuMAMBAAAALNYArAAzAI8AggAAAMyZZmZmzJmZzP///wAAAAAAAAAAAAj/AAkIHEiwoEGDAQIQWMiwocOHECNKbBigosWLBDJq3Mixo8ePHAOIHEmSgMmTKFOqXMkyZYCXMGMSmEmzps2bOHPaDMCzp08CQIMKHUq0qNGhAZIqXUqgqdOnUKNKnQo1gNWrWAlo3cq1q9evYLsGGEu2LIGzaNOqXcu2rdoAcOPKJUC3rt27ePPqvRugr9+/BAILHky4sOHDgwMoXsw4AIHHkCNLnky5cuQAmDNrJsC5s+fPoEOL/hygtOnTBFKrXs26tevXrAPInk2bgO3buHPr3s07d4DfwIMTGE68uPHjyJMbD8C8uXMC0KNLn069uvXpAbJr306gu/fv4MOL/x8PPoD58+gJqF/Pvr379/DbB5hPvz6B+/jz69/Pv79+gAEEDiRIwOBBhAkVLmSYMMBDiBEJTKRY0eJFjBktBuDY0SMBkCFFjiRZ0uTIAClVriTQ0uVLmDFlzoQZwOZNnAR07uTZ0+dPoD0DDCValMBRpEmVLmXaVGkAqFGlEqBa1epVrFm1Xg3Q1etXAmHFjiVb1uxZsgHUrmVLwO1buHHlzqUbN8BdvHkJ7OXb1+9fwIH9BiBc2DABxIkVL2bc2LHiAJElTw5AwPJlzJk1b+aMOcBn0KEJjCZd2vRp1KlNB2Dd2jUB2LFlz6Zd2/bsALl17ybQ2/dv4MGFDwcewP/4ceQElC9n3tz5c+jNA0ynXp3AdezZtW/n3l17APDhxRMgX978efTp1Z8P0N79ewLx5c+nX9/+ffoB9O/nT8A/QAICBxIsaPAgQoEBFjJsSOAhxIgSJ1KsKDEAxowaCXDs6PEjyJAiPwYoafIkgZQqV7Js6fIlywAyZ9IkYPMmzpw6d/LMGeAn0KAEhhItavQo0qRGAzBt6pQA1KhSp1KtanVqgKxatxLo6vUr2LBix4INYPYsWgJq17Jt6/Yt3LYB5tKtS+Au3rx69/LtqzcA4MCCCRAubPgw4sSKDwdo7PgxgciSJ1OubPky5QCaN3Mm4Pkz6NCiR5MGHeA06tT/BFazbu36NezYrgPQrm2bAO7cunfz7u17d4DgwocTKG78OPLkypcjD+D8OXQC0qdTr279OvbqAbZz707gO/jw4seTLy8+APr06gmwb+/+Pfz48t8HqG//PoH8+vfz7+8fIAGBAwkODHAQYUICCxk2dPgQYkSHAShWtEgAY0aNGzl29LgxQEiRIwmUNHkSZUqVK1EGcPkSJgGZM2nWtHkTZ80AO3n2JPATaFChQ4kWFRoAaVKlBJg2dfoUalSpTwNUtXqVQFatW7l29fqVawCxY8kSMHsWbVq1a9mmDfAWblwCc+nWtXsXb167Afj29UsAcGDBgwkXNjw4QGLFiwk0/3b8GHJkyZMhB7B8GTMBzZs5d/b8GXTnAKNJlyZwGnVq1atZt04dAHZs2QRo17Z9G3du3bcD9Pb9m0Bw4cOJFzd+nHgA5cuZE3D+HHp06dOpRw9wHXt2Atu5d/f+HXx47wHIlzdPAH169evZt3e/PkB8+fMJ1Ld/H39+/fvxB/APMIDAgQEIGDyIMKHChQwTBngIMSKBiRQrWryIMaPFABw7eiQAMqTIkSRLmhwZIKXKlQRaunwJM6bMmTAD2LyJk4DOnTx7+vwJtGeAoUSLEjiKNKnSpUybKg0ANapUAlSrWr2KNavWqwG6ev1KIKzYsWTLmj1LNoDatWwJuH0LN/+u3Ll04wa4izcvgb18+/r9Cziw3wCECxsmgDix4sWMGzteHCCy5MkEKlu+jDmz5s2YA3j+DJqA6NGkS5s+jbp0gNWsWxN4DTu27Nm0a8cOgDu3bgK8e/v+DTy48N8Bihs/TiC58uXMmzt/zjyA9OnUCVi/jj279u3cswf4Dj48gfHky5s/jz69+QDs27snAD++/Pn069ufHyC//v0E+vsHSEDgQIIFDR48GEDhQoYEHD6EGFHiRIoRA1zEmJHARo4dPX4EGdJjAJIlTRJAmVLlSpYtXa4MEFPmTAI1bd7EmVPnTpwBfP4ESkDoUKJFjR5FWjTAUqZNCTyFGlXqVKr/VaUGwJpVKwGuXb1+BRtW7NcAZc2eJZBW7Vq2bd2+ZRtA7ly6BOzexZtX716+eQP8BRyYwGDChQ0fRpzYcADGjR0TgBxZ8mTKlS1PDpBZ82YCnT1/Bh1a9GjQAUyfRk1A9WrWrV2/ht06wGzatQncxp1b927evXMHAB5ceAACxY0fR55c+fLjAZw/h05A+nTq1a0DwJ5d+/btAbx/Bw9A/Hjy5csTAJBe/Xr27AO8hx8fwHz69e3bJwBA/37+/fsDDCBwIEEABg8iTJiQAICGDh9ChBggwAABAwQMEBAgAICOHj+CBEkAAMmSJk+eDCBggIABAgYIGBAAAM2aNm/e/yQAYCfPnj59DhAwQMAAAQMEDBAAYCnTpk6dEgAgdSrVqlUFDBAwQMAAAQMEDAAgdizZsmUJAEirdi1btgMEDBAwQMAAAQMEAMirdy9fvgQAAA4sePBgAQMEDBAwQMAAAQMAQI4sefJkAgAuY86sWfMAAQMEDBAwQMAAAQBOo06tWjUBAK5fw44dO8AAAQMEDBAwQEAAAL5/Aw8enACA4saPI0ceIICAAQIGCBgQIACA6tavY8dOAAD37t6/g/ceYPx4AObPo0+fngCA9u7fw48vfz59+AQA4M+vfz///v4BAhA4kGBBgwcRJlSokAAAhw8hRpQ4kWLFiAQAZNS4kZxjR48fQXIkAIBkSZMnUaZUufIkAQAvYcaUOZNmTZsyCQDQuZNnT58/gQbtSQBAUaNHkSZVupQpUgIAoEaVOpVqVatXpxIAsJVrV69fwYYV65UAALNn0aZVu5Zt27QEAMSVO5duXbt38dIlAIBvX79/AQcWPPgvAQCHESdWvJhxY8eKCQCQPJlyZcuXMWeuTABAZ8+fQYcWPZo06IAAIf8LTkVUU0NBUEUyLjADAQAAACzXAKwANQCPAIIAAADMmWZmZsyZmcz///8AAAAAAAAAAAAI/wAJCBxIsKDBgwESEljIsKHDhxAjSnQYoKLFiwQyatzIsaPHjx4DiBxJkoDJkyhTqlzJcmWAlzBjEphJs6bNmzhz4gzAs6dPAkCDCh1KtKjRogGSKl1KoKnTp1CjSp0qNYDVq1gJaN3KtavXr2C/BhhLtiyBs2jTql3Lti3bAHDjyiVAt67du3jz6s0boK/fvwQCCx5MuLDhw4YDKF7MmIDjx5AjS55MeXKAy5gzE9jMubPnz6BDgw5AurRpAqhTq17NurXr1gFiy55NoLbt27hz696tO4Dv38AJCB9OvLjx48iPB1jOvDmB59CjS59OvTr1ANizayfAvbv37+DDi/8PH6C8+fME0qtfz769+/fuA8ifT5+A/fv48+vfz19/AIABBA4cSMDgQYQJFS5kuDDAQ4gRCUykWNHiRYwZMQbg2NEjAZAhRY4kWdJkyQApVa4k0NLlS5gxZc6UGcDmTZwEdO7k2dPnT6A/AwwlWpTAUaRJlS5l2pRpAKhRpRKgWtXqVaxZtWYN0NXrVwJhxY4lW9bsWbMB1K5lS8DtW7hx5c6lOzfAXbx5Cezl29fvX8CBAQcgXNgwAcSJFS9m3Nhx4wCRJU8mUNnyZcyZNW/WHMDzZ9AERI8mXdr0adSnA6xm3ZrAa9ixZc+mXZt2ANy5dRPg3dv3b+DBhQcPUNz/+HECyZUvZ97c+XPnAaRPp07A+nXs2bVv5749wHfw4QmMJ1/e/Hn06dEHYN/ePQH48eXPp1/ffv0A+fXvJ9DfP0ACAgcSLGjwIEICARYybEjgIcSIEidSrEgxAMaMGglw7OjxI8iQIkMGKGnyJIGUKleybOnypcsAMmfSJGDzJs6cOnfy1BngJ9CgBIYSLWr0KNKkSAMwbeqUANSoUqdSrWq1aoCsWrcS6Or1K9iwYseKDWD2LFoCateybev2Ldy3AebSrUvgLt68evfy7cs3AODAggkQLmz4MOLEihMHaOz4MYHIkidTrmz5suUAmjdzJuD5M+jQokeTHh3gNOrU/wRWs27t+jXs2LAD0K5tmwDu3Lp38+7tu3eA4MKHEyhu/Djy5MqXKw/g/Dl0AtKnU69u/Tr26wG2c+9O4Dv48OLHky9PPgD69OoJsG/v/j38+PLjB6hv/z6B/Pr38+/vHyABgQMJFgxwEGFCAgsZNnT4EGJEiAEoVrRIAGNGjRs5dvTYMUBIkSMJlDR5EmVKlStVBnD5EiYBmTNp1rR5E+fNADt59iTwE2hQoUOJFiUaAGlSpQSYNnX6FGpUqVEDVLV6lUBWrVu5dvX61WsAsWPJEjB7Fm1atWvZrg3wFm5cAnPp1rV7F2/euwH49vUbgEBgwYMJFzZ8uHAAxYsZE/9w/BhyZMmTKU8OcBlzZgKbOXf2/Bl0aNABSJc2TQB1atWrWbd23TpAbNmzCdS2fRt3bt27dQfw/Rs4AeHDiRc3fhz58QDLmTcn8Bx6dOnTqVenHgB7du0EuHf3/h18ePHhA5Q3f55AevXr2bd3/959APnz6ROwfx9/fv37+e8PADCAwIEDCRg8iDChwoUMFwZ4CDEigYkUK1q8iDEjxgAcO3okADKkyJEkS5osGSClypUEWrp8CTOmzJkyA9i8iZOAzp08e/r8CfRngKFEixI4ijSp0qVMmzINADWqVAJUq1q9ijWr1qwBunr9SiCs2LFky5o9azaA2rVsCbh9Czf/rty5dOcGuIs3L4G9fPv6/Qs4MOAAhAsbJoA4seLFjBs7bhwgsuTJBCpbvow5s+bNmgN4/gyagOjRpEubPo36dIDVrFsTeA07tuzZtGvPDoA7t+4ABHr7/g08uPDhwQMYP46cgPLlzJs7fw79eYDp1KsTuI49u/bt3LtzDwA+vHgC5MubP48+vfr0Adq7f08gvvz59Ovbv28/gP79/An4B0hA4ECCBQ0eREgwwEKGDQk8hBhR4kSKFSkGwJhRIwGOHT1+BBlSZMgAJU2eJJBS5UqWLV2+dBlA5kyaBGzexJlT506eOwP8BBqUwFCiRY0eRZoUaQCmTZ0SgBpV6lSq/1WtVg2QVetWAl29fgUbVuxYsQHMnkVLQO1atm3dvoX7NsBcunUJ3MWbV+9evn35BgAcWDABwoUNH0acWHHiAI0dPyYQWfJkypUtX7YcQPNmzgQ8fwYdWvRo0qMDnEadmsBq1q1dv4YdG3YA2rVtE8CdW/du3r199w4QXPhwAsWNH0eeXPly5QGcP4dOQPp06tWtEwCQXft27t0DfAcfHsB48uXNlyeQHsB69u3dvw8QX/58APXt38d/n8B+AP39AwQgcCDBggEOIkwIYCHDhg4bEogIYCLFihYtBggwQMAAAQMEBAgAYCTJkiZNEkgJYCXLli5dBhAwQMAAAQMEDP8IAGAnz54+fRIICmAo0aJGjQYYIGCAgAECBggYAGAq1apWrRLICmAr165evQoYIGCAgAECBggYAGAt27Zu3RKIC2Au3bp27Q4QMEDAAAEDBAwQAGAw4cKGDRNIDGAx48aOHQsYIGCAgAECBggYAGAz586ePRMIDWA06dKmTQcYIGCAgAECBggYAGA27dq2bRPIDWA3796+fQcQMEDAAAEDBAwIAGA58+bOnROIDmA69erWrQcIMEDAAAEDBAQIAGA8+fLmzRNID2A9+/bu37cPIF8+gPr27+PHT2A/gP7+AQIQOJBgQYMHESIksBBAQ4cPIUaUOJFiRYsXMV4ksBG8QEePH0GGFDmSJEgCJwGkVLmSZUuXL2GyJDATQE2bN3Hm1LmTJ04CPwEEFTqUaFGjR5ESJbAUQFOnT6FGlTqVKlQCVwFk1bqVa1evX8FyJTAWQFmzZ9GmVbuWLVoCbwHElTuXbl27d/HSJbAXQF+/fwEHFjyYMGAChwEkVryYcWPHjyEzJjAZQGXLlzFn1ryZM2YCnwGEFj2adGnTp1GTJrAaQGvXr2HHlj2bNmwCtwHk1r2bd2/fv4HzDggAIf8LTkVUU0NBUEUyLjADAQAAACzaAKwAOgCPAIIAAADMmWZmZsyZmcz///8AAAAAAAAAAAAI/wAJCBxIsKDBgwUDKFRIoKHDhxAjSpxI0WGAixgzEtjIsaPHjyBDiuQYoKTJkwRSqlzJsqXLlzBVBphJsyaBmzhz6tzJs6dPnAGCCh1KoKjRo0iTKl3K1GiAp1CjEphKtarVq1izaqUaoKvXrwTCih1LtqzZs2jFBljLti2Bt3Djyp1Lt65duAHy6t1LoK/fv4ADCx5M2G+Aw4gTE1jMuLHjx5AjS2YcoLLlywQya97MubPnz6A1BxhNujSB06hTq17NurVr1AFiy55NoLbt27hz697N23aA38CDExhOvLjx48iTKyceoLnz5wSiS59Ovbr169ilB9jOvTuB7+DDi/8fT768efAB0qtfT6C9+/fw48ufT999gPv48xPYz7+/f4AEBA4kWNDgwYIBFC5kSMDhQ4gRJU6kWPFhAIwZNRLg2NHjR5AhRY7sGMDkSZQEVK5k2dLlS5gxVwagWdMmAZw5de7k2dPnz5wBhA4lSsDoUaRJlS5l2vRoAKhRpRKgWtXqVaxZtW6tGsDrV7AExI4lW9bsWbRpxwZg29YtAbhx5c6lW9fu3bgB9O7lS8DvX8CBBQ8mXPhvAMSJFRNg3NjxY8iRJU9uHMDyZcwENG/m3NnzZ9ChNwcgXdo0AdSpVa9m3dr169QBZM+mTcD2bdy5de/m3ft2AODBhRMgXtz/+HHkyZUvLx7A+XPoBKRPp17d+nXs2acH4N7dOwHw4cWPJ1/e/PnwAdSvZ0/A/Xv48eXPp1//fQD8+fUT4N/fP0ACAgcSLGjwIEKBARYybEjgIcSIEidSrGgRYoCMGjcS6OjxI8iQIkeS9BjgJMqUBFaybOnyJcyYMlkGqGnzJoGcOnfy7OnzJ1CdAYYSLUrgKNKkSpcybeoUaYCoUqcSqGr1KtasWrdytRrgK9iwBMaSLWv2LNq0askGaOv2LYG4cufSrWv3Ll65Afby7UvgL+DAggcTLmwYcIDEihcTaOz4MeTIkidTdhzgMubMBDZz7uz5M+jQojkHKG36NIHU/6pXs27t+jVs1QFm065N4Dbu3Lp38+7tG3eA4MKHEyhu/Djy5MqXMzce4Dn06ASmU69u/Tr27NqpB+ju/TuB8OLHky9v/jx68QHWs29P4D38+PLn069vH36A/Pr3E+jvHyABgQMJFjR4EKHBAAsZNiTwEGJEiRMpVrQIMUBGjRsJdPT4EWRIkSNJegxwEmVKAitZtnT5EmZMmSwD1LR5k0BOnTt59vT5E6jOAEOJFiVwFGlSpUuZNnWKNEBUqVMJVLV6FWtWrVu5Wg3wFWxYAmPJljV7Fm1atWQDtHX7lkBcuXPp1rV7F6/cAHv59iXwF3BgwYMJFzYMOEBixYsJNP92/BhyZMmTKTsOcBlzZgKbOXf2/Bl0aNGcA5Q2fZpAatWrWbd2/Rq26gCzadcmcBt3bt27eff2jTtAcOHDCRQ3fhx5cuXLmRsP8Bx6dALTqVe3fh17du3UA3T3/p1AePHjyZc3fx69+ADr2bcn8B5+fPnz6de3Dz9Afv37CfT3D5CAwIEECxo8iNBggIUMGxJ4CDGixIkUK1qEGCCjxo0EOnr8CDKkyJEkPQY4iTIlgZUsW7p8CTOmTJYBatq8SSCnzp08e/r8CVRngKFEixI4ijSp0qVMmzpFGiCq1KkEqlq9ijWr1q1crQb4CjYsgbFky5o9izatWrIB2rp9SyD/rty5dOvavYtXboC9fPsS+As4sODBhAsbBhwgseLFBBo7fgw5suTJlB0HuIw5M4HNnDt7/gw6tGjOAUqbPk0gterVrFu7fg1bdYDZtGsTuI07t+7dvHv7xh0guPDhBIobP448ufLlzI0HeA49OoHp1Ktbv449u3bqAbp7/04gvPjx5MubP49efID17NsTeA8/vvz59Ovbhx8gv/79BPr7B0hA4ECCBQ0eRGgwwEKGDQk8hBhR4kSKFS1CDJBR40YCHT1+BBlS5EiSHgOcRJmSwEqWLV2+hBlTJssANW3eJJBT506ePX3+BKozwFCiRQkcRZpU6VKmTZ0iDRBV6lQC/1WtXsWaVetWrlYDfAUblsBYsmXNnkWbVi3ZAG3dviUQV+5cunXt3sUrN8Bevn0J/AUcWPBgwoUNAw6QWPFiAo0dP4YcWfJkyo4DXMacmcBmzp09fwYdWjTnAKVNnyaQWvVq1q1dv4atOsBs2rUJ3MadW/du3r194w4QXPhwAsWNH0eeXPly5sYDPIcencB06tWtX8eeXTv1AN29fycQXvx48uXNn0cvPsB69u0JvIcfX/58+vXtww+QX/9+Av39AyQgcCDBggYPIjQYYCHDhgQeQowocSLFihYhBsiocSOBjh4/ggwpciRJjwFOokxJYCXLli5fwowpk2WAmjZvEv/IqXMnz54+fwLVGWAo0aIEjiJNqnQpUwBOn0KNGjUA1apWAWDNqnXrVgJev3oFIHYs2bJlA6BNqxYA27Zu374lIHeuXAB27+LNmzcA375+AQAOLHjwYAKGDxsGoHgx48aNAwQYIGCAgAECAgQAoHkz586dCYAODRoA6dKmT58OIGCAgAECBggYEAAA7dq2b98moHu3bgC+fwMPHjzAAAEDBAwQMEDAAADOn0OPHp0A9erUAWDPrn37dgEDBAwQMEDAAAEDAKBPr379egLu37sHIH8+/fr1BwgYIGCAgAECAA4QAIBgQYMHDxJQuFAhAIcPIUaMKGCAgAECBggYIGD/AACPH0GGDEmAZEmSAFCmVLlyZYABAgYIGCBggIABAHDm1LlzJwGfP30CEDqUaNGiAQQMEDBAwAABAwIAkDqVatWqBLBmxQqAa1evX78GCDBAwAABAwQECACAbVu3b98SkDtXLgC7d/HmzRuAL18AfwEHFjw4MAHDhw0DULyYcWPHjyFHbkyAcmXKADBn1ryZc2fPn0GHFj2adGYCp1GfBrCadWvXr2HHlu2aQG3btQHk1r2bd2/fv4HzJjCc+HAAx5EnV76ceXPnyglElx4dQHXr17Fn176dO3YC38F/BzCefHnz59GnV2+eQHv37QHElz+ffn379/HTJ7Cf/34AfAABCBxIsKDBgwgTEiTAsCFDABAjSpxIsaLFixMJaNyoEYDHjyBDihxJsmRIAihTogTAsqXLlzBjypz5koDNmzYB6NzJs6fPn0CD9iRAtChRAEiTKl3KtKnTp0sJSJ0qFYDVq1izat3KtWtWAmDDggVAtqzZs2jTql17NiAAIf8LTkVUU0NBUEUyLjADAQAAACziAKwANwCPAIIAAADMmWZmZsyZmcz///8AAAAAAAAAAAAI/wAJCBxIsKDBgwIDKAxAoKHDhxAjSpxIMYDFixgJaNzIsaPHjyBDBhhJsiSBkyhTqlzJsqXLADBjyiRAs6bNmzhz6twZoKfPnwSCCh1KtKjRo0gDKF3KlIDTp1CjSp1KtWqAq1izEtjKtavXr2DDig1AtqxZAmjTql3Ltq3btwHiyp1LoK7du3jz6t3LN4Dfv4AJCB5MuLDhw4gTB1jMuDGBx5AjS55MubLlAJgzaybAubPnz6BDix4doLTp0wRSq17NurXr17ADyJ5Nm4Dt27hz697Nu3eA38CDExhOvLjx48iTKw/AvLlzAtCjS59Ovbr16wGya99OoLv37+DDi/8fTz6A+fPoCahfz769+/fw4xMIQL++fQL48+vfz7+/f4AEBA4cGMDgQYQEFC5k2NDhQ4gRA0ykWJHARYwZNW7k2NFjAJAhRRIgWdLkSZQpVa4M0NLlSwIxZc6kWdPmTZwBdO7kScDnT6BBhQ4lWjTAUaRJCSxl2tTpU6hRpQagWtUqAaxZtW7l2tXr1wBhxY4lUNbsWbRp1a5lG8DtW7gE5M6lW9fuXbx5A+zl25fAX8CBBQ8mXNhwAMSJFRNg3NjxY8iRJU8OUNnyZQKZNW/m3NnzZ9ABRI8mTcD0adSpVa9m3TrAa9ixCcymXdv2bdy5dQfg3ds3AeDBhQ8nXtz/+PEAyZUvJ9Dc+XPo0aVPpx7A+nXsBLRv597d+3fw4QOMJ1+ewHn06dWvZ9/efQD48eUToF/f/n38+fXvD9DfP8AAAgMQKGjwIMKEChcyDODwIUQCEidSrGjxIsaMATZy7EjgI8iQIkeSLGkyAMqUKgmwbOnyJcyYMmcGqGnzJoGcOnfy7OnzJ9AAQocSJWD0KNKkSpcybRrgKdSoBKZSrWr1KtasWgNw7eqVANiwYseSLWv2bIC0atcSaOv2Ldy4cufSDWD3Ll4Cevfy7ev3L+DAAQYTLkzgMOLEihczbuw4AOTIkglQrmz5MubMmjcH6Oz5M4HQokeTLm36NOoA/6pXsybg+jXs2LJn064d4Dbu3AR28+7t+zfw4MIDEC9unADy5MqXM2/u/HmA6NKnE6hu/Tr27Nq3cw/g/Tt4AuLHky9v/jz69AHWs29P4D38+PLn069vPwD+/PoJ8O/vHyABgQMJFjR48GAAhQsZEnD4EGJEiRMpVgxwEWNGAhs5dvT4EWRIkQFIljRJAGVKlStZtnT5MkBMmTMJ1LR5E2dOnTt5BvD5EygBoUOJFjV6FGnSAEuZNiXwFGpUqVOpVrUaAGtWrQS4dvX6FWxYsWMDlDV7lkBatWvZtnX7Fm4AuXPpErB7F29evXv59g3wF3BgAoMJFzZ8GHFixQEYN/92TAByZMmTKVe2fDlAZs2bCXT2/Bl0aNGjSQcwfRo1AdWrWbd2/Rp27ACzadcmcBt3bt27eff2HQB4cOEEiBc3fhx5cuXLAzR3/pxAdOnTqVe3fh17AO3buRPw/h18ePHjyZcPcB59egLr2bd3/x5+fPkB6Ne3TwB/fv37+ff3D5CAwIEDAxg8iJCAwoUMGzp8CDFigIkUKxK4iDGjxo0cO3oMADKkSAIkS5o8iTKlypUBWrp8SSCmzJk0a9q8iTOAzp08Cfj8CTSo0KFEiwY4ijQpgaVMmzp9CjWq1ABUq1olgDWr1q1cu3r9GiCs2LEEypo9izat2rVsA7h9C5f/gNy5dOvavYs3b4C9fPsS+As4sODBhAsbDoA4sWICjBs7fgw5suTJASpbvkwgs+bNnDt7/gw6gOjRpAmYPo06terVrFsHeA07NoHZtGvbvo07t+4AvHv7JgA8uPDhxIsbPx4gufLlBJo7fw49uvTp1ANYv46dgPbt3Lt7/w4+fIDx5MsTOI8+vfr17Nu7DwA/vnwC9Ovbv48/v/79Afr7BxhAYAACBQ0eRJhQ4UKGARw+hEhA4kSKFS1exJgxwEaOHQl8BBlS5EiSJU0GQJlSJQGWLV2+hBlT5swANW3eJJBT506ePX3+BBpA6FCiBIweRZpU6VKmTQM8hRqVwFSq/1WtXsWaVWsArl29EgAbVuxYsmXNng2QVu1aAm3dvoUbV+5cugHs3sVLQO9evn39/gUcOMBgwoUJHEacWPFixo0dB4AcWTIBypUtX8acWfPmAJ09fyYQWvRo0qVNn0YdQPVq1gRcv4YdW/Zs2rUD3Madm8Bu3r19/wYeXHgA4sWNE0CeXPly5s2dPw8QXfp0AtWtX8ee/ToA7t29f/8eQPx48gDMn0efPj0B9uwBvIcfX778APXt3weQX/9+/vwJACQgkACAggYPIkQYYCHDhgAeQowoUSKBihUBYMyocePGAAEGCBggYICAAAEAoEypcuVKAi5dAogpcyZNmgEEDP8QMEDAAAEDAgAIKnQoUaIEjh4FoHQp06ZNAwwQMEDAAAEDBAwAoHUr165dCYAFC2As2bJmzQoYIGCAgAECBggYAGAu3bp27RLImxcA375+//4dIGCAgAECBggYIAAA48aOHz8mIFkygMqWL2PGLGCAgAECBggYIGAAgNKmT6NGTWD1agCuX8OOHTvAAAEDBAwQMEDAAAC+fwMPHpwAceIAjiNPrlx5AAEDBAwQMEDAgAAArmPPrl07ge7dAYAPL378+AABBggYIGCAgAABAMCPL3/+fAL27QPIr38/f/4BAAYQGABAQYMHESY8SIAhQwAPIUaUOJFiRYsSCWTMCIDdY0ePH0GGFDmSZEmTJ1ESUKkSQEuXL2HGlDmTJkwCN28C0LmTZ0+fP4EG7UmAKFEAR5EmVbqUaVOnSglEjQqAalWrV7Fm1br1KgGvXgGEFTuWbFmzZ9GSJbB2LQC3b+HGlTuXbt24BPDiBbCXb1+/fwEHFuyXQOHCABAnVryYcWPHjxcTkCwZQGXLlzFn1ryZM2YCnz8DED2adGnTp1GnLk2ANWsAr2HHlj2bdm3bsgnkzg2Ad2/fv4EHFz78NwHjxgEkV76ceXPnz6EzJzB9OgDr17Fn176de/fsAQEAIf8LTkVUU0NBUEUyLjADAQAAACznAKwANgCPAIIAAADMmWZmZsyZmcz///8AAAAAAAAAAAAI/wAJCBxIsKDBgwQCKFRIoKHDhxAjSpw4MYDFixgJaNzIsaPHjyBBBhhJsiSBkyhTqlzJsmXLADBjyiRAs6bNmzhz6tQZoKfPnwSCCh1KtKjRo0cDKF3KlIDTp1CjSp1KlWqAq1izEtjKtavXr2DDhg1AtqxZAmjTql3Ltq1btwHiyp1LoK7du3jz6t27N4Dfv4AJCB5MuLDhw4gRB1jMuDGBx5AjS55MuXLlAJgzaybAubPnz6BDixYdoLTp0wRSq17NurXr168DyJ5Nm4Dt27hz697Nm3eA38CDExhOvLjx48iTJw/AvLlzAtCjS59Ovbp16wGya99OoLv37+DDi/8fPz6A+fPoCahfz769+/fw4QeYT78+gfv48+vfz79/f4ABBA4kSMDgQYQJFS5kyDDAQ4gRCUykWNHiRYwZMwbg2NEjAZAhRY4kWdKkyQApVa4k0NLlS5gxZc6cGcDmTZwEdO7k2dPnT6BAAwwlWpTAUaRJlS5l2rRpAKhRpRKgWtXqVaxZtWoN0NXrVwJhxY4lW9bs2bMB1K5lS8DtW7hx5c6lSzfAXbx5Cezl29fvX8CBAwcgXNgwAcSJFS9m3Nix4wCRJU8mUNnyZcyZNW/eHMDzZ9AERI8mXdr0adSoA6xm3ZrAa9ixZc+mXbt2ANy5dRPg3dv3b+DBhQsPUNz/+HECyZUvZ97c+fPnAaRPp07A+nXs2bVv5849wHfw4QmMJ1/e/Hn06dMHYN/ePQH48eXPp1/fvv0A+fXvJ9DfP0ACAgcSLGjwIEKBARYybEjgIcSIEidSrFgxAMaMGglw7OjxI8iQIkUGKGnyJIGUKleybOny5csAMmfSJGDzJs6cOnfy5BngJ9CgBIYSLWr0KNKkSQMwbeqUANSoUqdSrWrVaoCsWrcS6Or1K9iwYseODWD2LFoCateybev2LVy4AebSrUvgLt68evfy7ds3AODAggkQLmz4MOLEihUHaOz4MYHIkidTrmz58uUAmjdzJuD5M+jQokeTJh3gNOrU/wRWs27t+jXs2LED0K5tmwDu3Lp38+7t23eA4MKHEyhu/Djy5MqXLw/g/Dl0AtKnU69u/Tp27AG2c+9O4Dv48OLHky9fPgD69OoJsG/v/j38+PLlB6hv/z6B/Pr38+/vHyABgQMJFiQQAGFChQQYNnT4EGJEiRIDVLR4kUBGjRs5dvT48WMAkSNJEjB5EmVKlStZsgzwEmZMAjNp1rR5E2fOnAF49vRJAGhQoUOJFjVqNEBSpUsJNHX6FGpUqVOnBrB6FSsBrVu5dvX6FSzYAGPJliVwFm1atWvZtm0bAG5cuQTo1rV7F29evXoD9PX7l0BgwYMJFzZ8+HAAxYsZE/9w/BhyZMmTKVMOcBlzZgKbOXf2/Bl06NABSJc2TQB1atWrWbd27TpAbNmzCdS2fRt3bt27dwfw/Rs4AeHDiRc3fhw58gDLmTcn8Bx6dOnTqVevHgB7du0EuHf3/h18ePHiA5Q3f55AevXr2bd3//59APnz6ROwfx9/fv37+fMPADCAwIEDCRg8iDChwoUMGQZ4CDEigYkUK1q8iDFjxgAcO3okADKkyJEkS5o0GSClypUEWrp8CTOmzJkzA9i8iZOAzp08e/r8CRRogKFEixI4ijSp0qVMmzYNADWqVAJUq1q9ijWrVq0Bunr9SiCs2LFky5o9ezaA2rVsCbh9Czf/rty5dOkGuIs3L4G9fPv6/Qs4cOAAhAsbJoA4seLFjBs7dhwgsuTJBCpbvow5s+bNmwN4/gyagOjRpEubPo0adYDVrFsTeA07tuzZtGvXDoA7t24CvHv7/g08uHDhAYobP04gufLlzJs7f/48gPTp1AlYv449u/bt3LkH+A4+PIHx5MubP48+ffoA7Nu7JwA/vvz59Ovbtx8gv/79BPr7B0hA4ECCBQ0eRCgwwEKGDQk8hBhR4kSKFSsGwJhRIwGOHT1+BBlSpMgAJU2eJJBS5UqWLV2+fBlA5kyaBGzexJlT506ePAP8BBqUwFCiRY0eRZo0aQCmTZ0SgBpV6lSq/1WtWg2QVetWAl29fgUbVuzYsQHMnkVLQO1atm3dvoULN8BcunUJ3MWbV+9evn37BgAcWDABwoUNH0acWLHiAI0dPyYQWfJkypUtX74cQPNmzgQ8fwYdWvRo0qQDnEadmsBq1q1dv4YdO3YA2rVtE8CdW/du3r19+w4QXPhwAsWNH0eeXPny5QGcP4dOQPp06tWtTweQXft27twDfAcfHsB48uXNmyeQngAA9u3dv38fQP58+gDs38efPz8B/gQAAAQgcCDBggQDIEyoEADDhg4fPiQgkQCAihYvYsQYYOMAAQMEDAgQAADJkiZPniSgkgCAli5fwoQZYICAAQIGCP8YICAAgJ4+fwIFSmAoAQBGjyJNmjSAgAECBggYIGCAAABWr2LNmpUAVwIAvoINK1ZsgAECBggYIGCAgAEA3sKNK1cugboEAODNq3fvXgEDBAwQMEDAAAEDACBOrHjxYgKOCQCILHkyZcoBBggYIGCAgAECBgAILXo0adIEThMAoHo169atAwgYIGCAgAECBggAoHs37969CQAnAGA48eLGjw8QMEDAAAEDBAQIAGA69erWqxPITgAA9+7ev4MPEGCAgAECBgRID2A9+/bu2xOITwAA/fr27+MPoF8/gP7+AQIQOJBgwYEEEBIAsJBhQ4cPIUaU6JBARQIAMGbUuJHYY0ePH0GGFDlyJAGTBACkVLmSZUuXL2GyJDCTAACbN3Hm1LmTZ8+cBIASADCUaFGjR5EmVWqUQFMCAKBGlTqValWrV6cS0EoAQFevX8GGFTuWLFgCZwkAULuWbVu3b+HGbUuALgEAd/Hm1buXb1+/egkEJgCAcGHDhxEnVrz4MAHHBABEljyZcmXLlzFTJrCZAADPn0GHFj2adOnQBFATALCadWvXr2HHlu2aQG0CAHDn1r2bd2/fv3cTEE4AQHHjx5EnV76cOXICzwkAkD6denXr17Fnrx4QACH/C05FVFNDQVBFMi4wAwEAAAAs6wCsADcAjwCCAAAAzJlmZmbMmZnM////AAAAAAAAAAAACP8ACQgcSLCgwYMEAigMQKChw4cQI0qcSDGAxYsYCWjcyLGjx48gQwYYSbIkgZMoU6pcybKlywAwY8okQLOmzZs4c+rcGaCnz58EggodSrSo0aNIAyhdypSA06dQo0qdSrVqgKtYsxLYyrWr169gw4oNQLasWQJo06pdy7at27cB4sqdS6Cu3bt48+rdyzeA37+ACQgeTLiw4cOIEwdYzLgxgceQI0ueTLmy5QCYM2smwLmz58+gQ4seHaC06dMEUqtezbq169ewA8ieTZuA7du4c+vezbt3gN/AgxMYTry48ePIkysPwLy5cwLQo0ufTr269esBsmvfTqC79+/gw4v/H08+gPnz6AmoX8++vfv38OMHmE+/PoH7+PPr38+/v3+AAQQOJEjA4EGECRUuZNgwwEOIEQlMpFjR4kWMGTUG4NjRIwGQIUWOJFnS5MkAKVWuJNDS5UuYMWXOpBnA5k2cBHTu5NnT50+gQQMMJVqUwFGkSZUuZdrUaQCoUaUSoFrV6lWsWbVuDdDV61cCYcWOJVvW7Fm0AdSuZUvA7Vu4ceXOpVs3wF28eQns5dvX71/AgQUHIFzYMAHEiRUvZtzY8eMAkSVPJlDZ8mXMmTVv5hzA82fQBESPJl3a9GnUqQkEYN3aNQHYsWXPpl3b9u0AuXXvJtDb92/gwYUPJx7A//hx5ASUL2fe3Plz6NEDTKdencB17Nm1b+fe3XsA8OHFEyBf3vx59OnVrw/Q3v17AvHlz6df3/59/AH07+dPwD9AAgIHEixo8CBCgwEWMmxI4CHEiBInUqxoMQDGjBoJcOzo8SPIkCJHBihp8iSBlCpXsmzp8iXMADJn0iRg8ybOnDp38uwZ4CfQoASGEi1q9CjSpEoDMG3qlADUqFKnUq1q9WqArFq3Eujq9SvYsGLHkg1g9ixaAmrXsm3r9i3cuAHm0q1L4C7evHr38u3rNwDgwIIJEC5s+DDixIoXB2js+DGByJInU65s+TLmAJo3cybg+TPo0KJHky4d4DTq1P8EVrNu7fo17NiyA9CubZsA7ty6d/Pu7ft3gODChxMobvw48uTKlzMP4Pw5dALSp1Ovbv069uwBtnPvTuA7+PDix5Mvbz4A+vTqCbBv7/49/Pjy5weob/8+gfz69/Pv7x8gAYEDCRYUGABhQoUEGDZ0+BBiRIkTA1S0eJFARo0bOXb0+BFkAJEjSRIweRJlSpUrWbYM8BJmTAIzada0eRNnTp0BePb0SQBoUKFDiRY1ejRAUqVLCTR1+hRqVKlTqQawehUrAa1buXb1+hVs2ABjyZYlcBZtWrVr2bZ1GwBuXLkE6Na1exdvXr17A/T1+5dAYMGDCRc2fBhxAMWLGRP/cPwYcmTJkylXDnAZc2YCmzl39vwZdGjRAUiXNk0AdWrVq1m3dv06QGzZswnUtn0bd27du3kH8P0bOAHhw4kXN34cefIAy5k3J/AcenTp06lXtx4Ae3btBLh39/4dfHjx4wOUN3+eQHr169m3d/8efgD58+kTsH8ff379+/n3DwAwgMCBAwkYPIgwocKFDBsGeAgxIoGJFCtavIgxo8YAHDt6JAAypMiRJEuaPBkgpcqVBFq6fAkzpsyZNAPYvImTgM6dPHv6/Ak0aIChRIsSOIo0qdKlTJs6DQA1qlQCVKtavYo1q9atAbp6/UogrNixZMuaPYs2gNq1bAm4fQs3/67cuXTrBriLNy+BvXz7+v0LOLDgAIQLGyaAOLHixYwbO34cILLkyQQqW76MObPmzZwDeP4MmoDo0aRLmz6NOnWA1axbE3gNO7bs2bRr2w6AO7duArx7+/4NPLjw4QGKGz9OILny5cybO38OPYD06dQJWL+OPbv27dy7B/gOPjyB8eTLmz+PPr36AOzbuycAP778+fTr278fIL/+/QT6+wdIQOBAggUNHkQ4MMBChg0JPIQYUeJEihUtBsCYUSMBjh09fgQZUuTIACVNniSQUuVKli1dvoQZQOZMmgRs3sSZU+dOnj0D/AQalMBQokWNHkWaVGkApk2dEoAaVepUqv9VrV4NkFXrVgJdvX4FG1bsWLIBzJ5FS0DtWrZt3b6FGzfAXLp1CdzFm1fvXr59/QYAHFgwAcKFDR9GnFjx4gCNHT8mEFnyZMqVLV/GHEDzZs4EPH8GHVr0aNKlA5xGnZrAatatXb+GHVt2ANq1bRPAnVv3bt69ff8mEED4cOIEjB9Hnlz5cubNAzyHHp3AdOrVrV+vDkD7du7duwcAH148APLlzZ8/T0C9egDt3b+HDz/AfPr1AdzHn1+/fgL9+wMEIHAgwYIFAyBMqBAAw4YOHz4kIFEigIoWL2LEGCDAAAEDBAwQECAAgJImT6JESWDlSgAuX8KMGTOAgAECBgj/GCBgQAAAPn8CDRqUAFGiAI4iTapU6QABAwQMEDBAwIAAAK5izapVK4GuXQGADSt27FgBAwQMEDBAwAABAwDAjSt37lwCdu0CyKt3L1++AwQMEDBAwAABAwQASKx4MWPGBB4/BiB5MuXKlQUMEDBAwAABAwQMACB6NOnSpQmgRg1gNevWrl0PEDBAwAABAwQMCABgN+/evn0TCB4cAPHixo8fDzBAwAABAwQMEBAAAPXq1q9fJ6BdO4Du3r+DBx8ggIABAgYIGBAgAID27t/Dh09g/nwA9u/jz58/AH/+AAACEDiQYEGDAwkkTAiAYUOHDyFGlDjxIQGLFgFk1LiR2WNHjx9BhhQ5kmRJAidPAlC5kmVLly9hxmxJgCZNADdx5tS5k2dPnzoJBA0KgGhRo0eRJlW69CgBp04BRJU6lWpVq1exUiWwdSsAr1/BhhU7lmzZsATQogWwlm1bt2/hxpXrlkDdugDw5tW7l29fv3/3EhAsGEBhw4cRJ1a8mDFiAo8fA5A8mXJly5cxZ65MgDNnAJ9BhxY9mnRp06IJpE4NgHVr169hx5Y9+zUB27YB5Na9m3dv37+B8yYwfDgA48eRJ1e+nHnz5ASgQwcwnXp169exZ9duPSAAIf8LTkVUU0NBUEUyLjADAQAAACzwAKwANQCPAIIAAADMmWZmZsyZmcz///8AAAAAAAAAAAAI/wAJCBxIsKBBgwESBiDAsKHDhxAjSowYoKLFiwQyatzIsaPHjx4DiBxJkoDJkyhTqlzJcmWAlzBjEphJs6bNmzhz4gzAs6dPAkCDCh1KtKjRogGSKl1KoKnTp1CjSp0qNYDVq1gJaN3KtavXr2C/BhhLtiyBs2jTql3Lti3bAHDjyiVAt67du3jz6s0boK/fvwQCCx5MuLDhw4YDKF7MmIDjx5AjS55MeXKAy5gzE9jMubPnz6BDhw5AurRpAqhTq17NurXr1gFiy55NoLbt27hz696tO4Dv38AJCB9OvLjx48iPB1jOvDmB59CjS59OvTr1ANizayfAvbv37+DDi/8PH6C8+fME0qtfz769+/fuA8ifT5+A/fv48+vfz39/AIABBA4cSMDgQYQJFS5kuDDAQ4gRCUykWNHiRYwZMQbg2NEjAZAhRY4kWdJkyQApVa4k0NLlS5gxZc6UGcDmTZwEdO7k2dPnT6A/AwwlWpTAUaRJlS5l2pRpAKhRpRKgWtXqVaxZtWYN0NXrVwJhxY4lW9bsWbMB1K5lS8DtW7hx5c6lOzfAXbx5Cezl29fvX8CBAQcgXNgwAcSJFS9m3Nhx4wCRJU8mUNnyZcyZNW/WHMDzZ9AERI8mXdr0adSnA6xm3ZrAa9ixZc+mXZt2ANy5dRPg3dv3b+DBhQcPUNz/+HECyZUvZ97c+XPnAaRPp07A+nXs2bVv5749wHfw4QmMJ1/e/Hn06dEHYN/ePQH48eXPp1/ffv0A+fXvJ9DfP0ACAgcSLGjwIEICARYybEjgIcSIEidSrEgxAMaMGglw7OjxI8iQIkMGKGnyJIGUKleybOnypcsAMmfSJGDzJs6cOnfy3BngJ9CgBIYSLWr0KNKkSAMwbeqUANSoUqdSrWq1aoCsWrcS6Or1K9iwYseKDWD2LFoCateybev2Ldy3AebSrUvgLt68evfy7cs3AODAggkQLmz4MOLEihMHaOz4MYHIkidTrmz5suUAmjdzJuD5M+jQokeTHh3gNOrU/wRWs27t+jXs2LAD0K5tmwDu3Lp38+7tu3eA4MKHEyhu/Djy5MqXKw/g/Dl0AtKnU69u/Tr26wG2c+9O4Dv48OLHky9PPgD69OoJsG/v/j38+PLjB6hv/z6B/Pr38+/vHyABgQMJFgxwEGFCAgsZNnT4EGJEiAEoVrRIAGNGjRs5dvTYMUBIkSMJlDR5EmVKlStVBnD5EiYBmTNp1rR5E+fNADt59iTwE2hQoUOJFiUaAGlSpQSYNnX6FGpUqVEDVLV6lUBWrVu5dvX61WsAsWPJEjB7Fm1atWvZrg3wFm5cAnPp1rV7F29evAH49vVLAHBgwYMJFzZcOEBixYsJNP92/BhyZMmTJQewfBkzAc2bOXf2/Bn05wCjSZcmcBp1atWrWbdmHQB2bNkEaNe2fRt3bt25A/T2/ZtAcOHDiRc3ftx4AOXLmRNw/hx6dOnTqU8PcB17dgLbuXf3/h18ePAByJc3TwB9evXr2bd33z5AfPnzCdS3fx9/fv379QfwDzCAwIEBCBg8iDChwoUMFwZ4CDEigYkUK1q8iDEjxgAcO3okADKkyJEkS5osGSClypUEWrp8CTOmzJkyA9i8iZOAzp08e/r8CfRngKFEixI4ijSp0qVMmzINADWqVAJUq1q9ijWr1qwBunr9SiCs2LFky5o9azaA2rVsCbh9Czf/rty5dOcGuIs3L4G9fPv6/Qs4MOAAhAsbJoA4seLFjBs7bhwgsuTJBCpbvow5s+bNmgN4/gyagOjRpEubPo36dIDVrFsTeA07tuzZtGvTDoA7t24CvHv7/g08uPDgAYobP04gufLlzJs7f+48gPTp1AMQuI49u/bt3LtzDwA+vHgC5MubP48+vfr0Adq7f08gvvz59Ovbv28/gP79/An4B0hA4ECCBQ0eREgwwEKGDQk8hBhR4kSKFSkGwJhRIwGOHT1+BBlSZMgAJU2eJJBS5UqWLV2+dBlA5kyaBGzexJlT506eOwP8BBqUwFCiRY0eRZoUaQCmTZ0SgBpV6lSq/1WtVg2QVetWAl29fgUbVuxYsQHMnkVLQO1atm3dvoX7NsBcunUJ3MWbV+9evn35BgAcWDABwoUNH0acWHHiAI0dPyYQWfJkypUtX7YcQPNmzgQ8fwYdWvRo0qMDnEadmsBq1q1dv4YdG3YA2rVtE8CdW/du3r199w4QXPhwAsWNH0eeXPly5QGcP4dOQPp06tWtSweQXft27twDfAcfHsB48uXNmyeQHsB69u3duw8QX/58APXt38ePn8B+AP39AwQgcCBBggEOIkwIYCHDhg4dEogIYCLFihYtBggwQMAAAQMEBAgAYCTJkiZNEkgJYCXLli5dBhAwQMAAAQMEDP8IAGAnz54+fRIICmAo0aJGjQ4QMEDAAAEDBAwIAGAq1apWrRLICmAr165evQoYIGCAgAECBggYAGAt27Zu3RKIC2Au3bp27Q4QMEDAAAEDBAwQAGAw4cKGDRNIDGAx48aOHQsYIGCAgAECBggYAGAz586ePRMIDWA06dKmTQ8QMEDAAAEDBAwIAGA27dq2bRPIDWA3796+fQcYIGCAgAECBggIAGA58+bOnROIDmA69erWrQcIIGCAgAECBgQIAGA8+fLmzRNID2A9+/bu3QeIHx8A/fr27+O3T2A/gP7+AQIQOJBgQYMHESIksBBAQ4cPIUaUOJFiRYsXMV4ksBG8QEePH0GGFDmSJEgCJwGkVLmSZUuXL2GyJDATQE2bN3Hm1LmTJ04CPwEEFTqUaFGjR5ESJbAUQFOnT6FGlTqVKlQCVwFk1bqVa1evX8FyJTAWQFmzZ9GmVbuWLVoCbwHElTuXbl27d/HSJbAXQF+/fwEHFjyYMGAChwEkVryYcWPHjyEzJjAZQGXLlzFn1ryZM2YCnwGEFj2adGnTp1GTJrAaQGvXr2HHlj2bNmwCtwHk1r2bd2/fv4HzDggAIf8LTkVUU0NBUEUyLjADAQAAACzzAKwANQCPAIIAAADMmWZmZsyZmcz///8AAAAAAAAAAAAI/wAJCBxIsKBBgwESBiDAsKHDhxAjSowYoKLFiwQyatzIsaPHjx4DiBxJkoDJkyhTqlzJcmWAlzBjEphJs6bNmzhz4gzAs6dPAkCDCh1KtKjRogGSKl1KoKnTp1CjSp0qNYDVq1gJaN3KtavXr2C/BhhLtiyBs2jTql3Lti3bAHDjyiVAt67du3jz6s0boK/fvwQCCx5MuLDhw4YDKF7MmIDjx5AjS55MeXKAy5gzE9jMubPnz6BDgw5AurRpAqhTq17NurXr1gFiy55NoLbt27hz696tO4Dv38AJCB9OvLjx48iPB1jOvDmB59CjS59OvTr1ANizayfAvbv37+DDi/8PH6C8+fME0qtfz769+/fuA8ifT5+A/fv48+vfz39/AIABBA4cSMDgQYQJFS5kuDDAQ4gRCUykWNHiRYwZMQbg2NEjAZAhRY4kWdJkyQApVa4k0NLlS5gxZc6UGcDmTZwEdO7k2dPnT6A/AwwlWpTAUaRJlS5l2pRpAKhRpRKgWtXqVaxZtWYN0NXrVwJhxY4lW9bsWbMB1K5lS8DtW7hx5c6lOzfAXbx5Cezl29fvX8CBAQcgXNgwAcSJFS9m3Nhx4wCRJU8mUNnyZcyZNW/WHMDzZ9AERI8mXdr0adSnA6xm3ZrAa9ixZc+mXZt2ANy5dRPg3dv3b+DBhQcPUNz/+HECyZUvZ97c+XPnAaRPp07A+nXs2bVv5749wHfw4QMQIF/e/Hn06dWnD9De/XsC8eXPp1/f/n37AfTv50/AP0ACAgcSLGjwIEKCARYybEjgIcSIEidSrEgxAMaMGglw7OjxI8iQIkMGKGnyJIGUKleybOnypcsAMmfSJGDzJs6cOnfy3BngJ9CgBIYSLWr0KNKkSAMwbeqUANSoUqdSrWq1aoCsWrcS6Or1K9iwYseKDWD2LFoCateybev2Ldy3AebSrUvgLt68evfy7cs3AODAggkQLmz4MOLEihMHaOz4MYHIkidTrmz5suUAmjdzJuD5M+jQokeTHh3gNOrU/wRWs27t+jXs2LAD0K5tmwDu3Lp38+7tu3eA4MKHEyhu/Djy5MqXKw/g/Dl0AtKnU69u/Tr26wG2c+9O4Dv48OLHky9PPgD69OoJsG/v/j38+PLjB6hv/z6B/Pr38+/vHyABgQMJFgxwEGFCAgsZNnT4EGJEiAEoVrRIAGNGjRs5dvTYMUBIkSMJlDR5EmVKlStVBnD5EiYBmTNp1rR5E+fNADt59iTwE2hQoUOJFiUaAGlSpQSYNnX6FGpUqVEDVLV6lUBWrVu5dvX61WsAsWPJEjB7Fm1atWvZrg3wFm5cAnPp1rV7F29evAH49vVLAHBgwYMJFzZcOEBixYsJNP92/BhyZMmTJQewfBkzAc2bOXf2/Bn05wCjSZcmcBp1atWrWbdmHQB2bNkEaNe2fRt3bt25A/T2/ZtAcOHDiRc3ftx4AOXLmRNw/hx6dOnTqU8PcB17dgLbuXf3/h18ePAByJc3TwB9evXr2bd33z5AfPnzCdS3fx9/fv379QfwDzCAwIEBCBg8iDChwoUMFwZ4CDEigYkUK1q8iDEjxgAcO3okADKkyJEkS5osGSClypUEWrp8CTOmzJkyA9i8iZOAzp08e/r8CfRngKFEixI4ijSp0qVMmzINADWqVAJUq1q9ijWr1qwBunr9SiCs2LFky5o9azaA2rVsCbh9Czf/rty5dOcGuIs3L4G9fPv6/Qs4MOAAhAsbJoA4seLFjBs7bhwgsuTJBCpbvow5s+bNmgN4/gyagOjRpEubPo0adYDVrFsTeA07tuzZtGvTDoA7t24CvHv7/g08uPDgAYobP04gufLlzJs7f+48gPTp1AlYv449u/bt3LcH+A4+PIHx5MubP48+PfoA7Nu7JwA/vvz59Ovbrx8gv/79BPr7B0hA4ECCBQ0eREggwEKGDQk8hBhR4kSKFSkGwJhRIwGOHT1+BBlSZMgAJU2eJJBS5UqWLV2+dBlA5kyaBGzexJlT506eOwP8BBqUwFCiRY0eRZoUaQCmTZ0SgBpV6lSq/1WtVg2QVetWAl29fgUbVuxYsQHMnkVLQO1atm3dvoX7NsBcunUJ3MWbV+9evn35BgAcWDABwoUNH0acWHHiAI0dPyYQWfJkypUtX7YcQPNmzgQ8fwYdWvRo0qMDnEadmsBq1q1dv4YdG3YA2rVtE8CdW/du3r199w4QXPhwAsWNH0eeXPly5QGcP4dOQPp06tWtSweQXft27twDfAcfHsB48uXNmyeQHsB69u3duw8QX/58APXt38ePn8B+AP39AwQgcCBBggEOIkwIYCHDhg4dEogIYCLFihYtBggwQMAAAQMEBAgAYCTJkiZNEkgJYCXLli5dBhAwQMAAAQMEDP8IAGAnz54+fRIICmAo0aJGjQ4QMEDAAAEDBAwQAGAq1apWrRLICmAr165evQoYIGCAgAECBggYAGAt27Zu3RKIC2Au3bp27Q4QMEDAAAEDBAwQAGAw4cKGDRNIDGAx48aOHQsYIGCAgAECBggYAGAz586ePRMIDWA06dKmTQcYIGCAgAECBggYAGA27dq2bRPIDWA3796+fQcQMEDAAAEDBAwIAGA58+bOnROIDmA69erWrQcIMEDAAAEDBAQIAGA8+fLmzRNID2A9+/bu3QeIHx8A/fr27+O3T2A/gP7+AQIQOJBgQYMHESIksBBAQ4cPIUaUOJFiRYsXMV4ksBG8QEePH0GGFDmSJEgCJwGkVLmSZUuXL2GyJDATQE2bN3Hm1LmTJ04CPwEEFTqUaFGjR5ESJbAUQFOnT6FGlTqVKlQCVwFk1bqVa1evX8FyJTAWQFmzZ9GmVbuWLVoCbwHElTuXbl27d/HSJbAXQF+/fwEHFjyYMGAChwEkVryYcWPHjyEzJjAZQGXLlzFn1ryZM2YCnwGEFj2adGnTp1GTJrAaQGvXr2HHlj2bNmwCtwHk1r2bd2/fv4HzDggAIf8LTkVUU0NBUEUyLjADAQAAACz2AKwANQCPAIIAAADMmWZmZsyZmcz///8AAAAAAAAAAAAI/wAJCBxIsKDBggESEljIsKHDhxAjQgxAsaJFAhgzatzIsaPHjgFCihxJoKTJkyhTqlypMoDLlzAJyJxJs6bNmzhvBtjJsyeBn0CDCh1KtCjRAEiTKiXAtKnTp1CjSo0aoKrVqwSyat3KtavXr14DiB1LloDZs2jTql3Ldm2At3DjEphLt67du3jz4g3At69fAoADCx5MuLDhwgESK15MoLHjx5AjS54sOYDly5gJaN7MubPnz6A/BxhNujSB06hTq17NunXrALBjyyZAu7bt27hz684doLfv3wSCCx9OvLjx48YDKF/OnIDz59CjS59OfXqA69izE9jOvbv37+DDg/8PQL68eQLo06tfz769+/YB4sufT6C+/fv48+vfrz+Af4ABBA4MQMDgQYQJFS5kuDDAQ4gRCUykWNHiRYwZMQbg2NEjAZAhRY4kWdJkyQApVa4k0NLlS5gxZc6UGcDmTZwEdO7k2dPnT6A/AwwlWpTAUaRJlS5l2pRpAKhRpRKgWtXqVaxZtWYN0NXrVwJhxY4lW9bsWbMB1K5lS8DtW7hx5c6lOzfAXbx5Cezl29fvX8CBAQcgXNgwAcSJFS9m3Nhx4wCRJU8mUNnyZcyZNW/WHMDzZ9AERI8mXdr0adSnA6xm3ZrAa9ixZc+mXZt2ANy5dRPg3dv3b+DBhQcPUNz/+HECyZUvZ97c+XPnAaRPp07A+nXs2bVv5749wHfw4QmMJ1/e/Hn06dEHYN/ePQH48eXPp1/ffv0A+fXvJ9DfP0ACAgcSLGjwIEICARYybEjgIcSIEidSrEgxAMaMGglw7OjxI8iQIkUGKGnyJIGUKleybOnypcsAMmfSJGDzJs6cOnfy3BngJ9CgBIYSLWr0KNKkSAMwbeqUANSoUqdSrWq1aoCsWrcS6Or1K9iwYseKDWD2LFoCateybev2Ldy3AebSrUvgLt68evfy7cs3AODAggkQLmz4MOLEihMHaOz4MYHIkidTrmz5suUAmjdzJuD5M+jQokeTHh3gNOrU/wRWs27t+jXs2LAD0K5tmwDu3Lp38+7tu3eA4MKHEyhu/Djy5MqXKw/g/Dl0AtKnU69u/Tr26wG2c+9O4Dv48OLHky9PPgD69OoJsG/v/j38+PLjB6hv/z6B/Pr38+/vHyABgQMJFgxwEGFCAgsZNnT4EGJEiAEoVrRIAGNGjRs5dvTYMUBIkSMJlDR5EmVKlStVBnD5EiYBmTNp1rR5E+fNADt59iTwE2hQoUOJFiUaAGlSpQSYNnX6FGpUqVEDVLV6lUBWrVu5dvX61WsAsWPJEjB7Fm1atWvZrg3wFm5cAnPp1rV7F29evAH49vVLAHBgwYMJFzZsOEBixYsJNP92/BhyZMmTJQewfBkzAc2bOXf2/Bn05wCjSZcmcBp1atWrWbdmHQB2bNkEaNe2fRt3bt25A/T2/ZtAcOHDiRc3ftx4AOXLmRNw/hx6dOnTqU8PcB17dgLbuXf3/h18ePAByJc3TwB9evXr2bd33z5AfPnzCdS3fx9/fv379QfwDzCAwIEBCBg8iDChwoUMFwZ4CDEigYkUK1q8iDEjxgAcO3okADKkyJEkS5osGSClypUEWrp8CTOmzJkyA9i8iZOAzp08e/r8CfRngKFEixI4ijSp0qVMmzINADWqVAJUq1q9ijWr1qwBunr9SiCs2LFky5o9azaA2rVsCbh9Czf/rty5dOcGuIs3L4G9fPv6/Qs4MOAAhAsbJoA4seLFjBs7bhwgsuTJBCpbvow5s+bNmgN4/gyagOjRpEubPo36dIDVrFsTeA07tuzZtGvTDoA7t24CvHv7/g08uPDgAYobP04gufLlzJs7f+48gPTp1AlYv449u/bt3LcH+A4+PIHx5MubP48+PfoA7Nu7JwA/vvz59Ovbtx8gv/79BPr7B0hA4ECCBQ0eREggwEKGDQk8hBhR4kSKFSkGwJhRIwGOHT1+BBlSZMgAJU2eJJBS5UqWLV2+dBlA5kyaBGzexJlT506eOwP8BBqUwFCiRY0eRZoUaQCmTZ0SgBpV6lSq/1WtVg2QVetWAl29fgUbVuxYsQHMnkVLQO1atm3dvoX7NsBcunUJ3MWbV+9evn35BgAcWDABwoUNH0acWHHiAI0dPyYQWfJkypUtX7YcQPNmzgQ8fwYdWvRo0qMDnEadmsBq1q1dv4YdG3YA2rVtE8CdW/du3r199w4QXPhwAsWNH0eeXPly5QGcP4dOQPp06tWtSweQXft27twDfAcfHsB48uXNmyeQHsB69u3duw8QX/58APXt38ePn8B+AP39AwQgcCBBggEOIkwIYCHDhg4dEogIYCLFihYtBggwQMAAAQMEBAgAYCTJkiZNEkgJYCXLli5dBhAwQMAAAQMEDP8IAGAnz54+fRIICmAo0aJGjQYYIGCAgAECBggYAGAq1apWrRLICmAr165evQoYIGCAgAECBggYAGAt27Zu3RKIC2Au3bp27Q4QMEDAAAEDBAwQAGAw4cKGDRNIDGAx48aOHQsYIGCAgAECBggYAGAz586ePRMIDWA06dKmTQcYIGCAgAECBggYAGA27dq2bRPIDWA3796+fQcQMEDAAAEDBAwIAGA58+bOnROIDmA69erWrwcYIGCAgAECAoAHIH48+fLkCaAHoH49+/buA8APAGA+/fr279cnoB8A//7+AQIQOJBgQYMHERIksBBAQ4cPIUaUOJFiRYsXMV4ksBG8QEePH0GGFDmSJEgCJwGkVLmSZUuXL2GyJDATQE2bN3Hm1LmTJ04CPwEEFTqUaFGjR5ESJbAUQFOnT6FGlTqVKlQCVwFk1bqVa1evX8FyJTAWQFmzZ9GmVbuWLVoCbwHElTuXbl27d/HSJbAXQF+/fwEHFjyYMGAChwEkVryYcWPHjyEzJjAZQGXLlzFn1ryZM2YCnwGEFj2adGnTp1GTJrAaQGvXr2HHlj2bNmwCtwHk1r2bd2/fv4HzDggAIf8LTkVUU0NBUEUyLjADAQAAACwJAawADwB+AIIAAADMmWZmZsyZmcz///8AAAAAAAAAAAAI/wAJCBxIIIDBAAQSJgzAsKFDAhAhBphIsSKBixcDaNzIkYBHjwFCihxJoGTJAChTqiTAkmWAlzBjEpg5M4DNmzgJ6NQZoKfPnwSCBg1AtKhRAkiRBljKtCmBp08DSJ1KlYBVqwGyat1KoGvXAGDDiiVAlmyAs2jTEli7NoDbt3AJyJUboK7duwTy5g3At69fAoABBxhMuDCBw4cDKF7MmIBjxwEiS55MoHLlAJgzaybAmXOAz6BDExg9OoDp06gJqFYdoLXr1wRixw5Au7ZtArhxB9jNuzeB378DCB9OnIBx4wGSK19OoLnzANCjSydAnXqA69izE9i+PYD37+AJiP8XH6C8+fME0qcPwL69ewLw4QeYT78+gfv3A+jfz5+Af4AECAQgWNAgAYQIAyxk2JDAw4cBJE6kSMCixQAZNW4k0LFjAJAhRRIgSTLASZQpCaxcGcDlS5gEZMoMUNPmTQI5cwbg2dMnAaBAAwwlWpTA0aMBlC5lSsCp0wBRpU4lULVqAKxZtRLgyjXAV7BhCYwdG8DsWbQE1KoN0NbtWwJx4wagW9cuAbx4A+zl25fA378BBA8mTMCw4QCJFS8m0LhxAMiRJROgTDnAZcyZCWzeHMDzZ9AERIsOUNr0aQKpUwdg3do1AdiwA8ymXZvA7dsBdO/mTcC37wDBhQ8nULz/eADkyZUTYM48wHPo0QlMnx7A+nXsBLRvD9Dd+3cC4cMHIF/ePAH06AOsZ9+ewPv3AeTPp0/Avv0A+fXvJ9C/P8AAAgcSJGDQYICEChcSaNgwAMSIEglQpBjgIsaMBDZuDODxI0gCIkUGKGnyJIGUKQOwbOmSAEyYAWbSrEng5s0AOnfyJODTZ4CgQocSKFo0ANKkSgkwZRrgKdSoBKZODWD1KlYCWrUG6Or1K4GwYQOQLWuWAFq0AdaybUvg7dsAcufSJWDXboC8evcS6Ns3AODAggkQJhzgMOLEBBYvDuD4MWQCkiUHqGz5MoHMmQNw7uyZAGjQAUaTLk3g9OkA/6pXsybg2nWA2LJnE6hdOwDu3LoJ8OYd4Dfw4ASGDw9g/DhyAsqVB2ju/DmB6NEDUK9unQB27AG2c+9O4Pv3AOLHkydg/nyA9OrXE2jfPgD8+PIJ0Kcf4D7+/AT27w/gH2AAgQMDEDBoMEBChQsJNGwYAGJEiQQoUgxwEWNGAhs3BvD4ESQBACMBBDB5EiUAlSoDtHT5EkDMmAFo1rQJACfOAAEGCBggYICAAAEAFC0aQMAAAQMEDBAwIAAAqVIHCBggYICAAQIGBADw9auAAQIGCBggYICAAQDYsh0gYICAAQIGCBggAEDevAIGCBggYICAAQIGADBseICAAQIGCC4YIGBAAACTJwcYIGCAgAECBggIAAA06AABBAwQMEDAgAABALRuHQA2bACzaQcEACH/C05FVFNDQVBFMi4wAwEAAAAs+ACsADMAjwCCAAAAzJlmZmbMmZnM////AAAAAAAAAAAACP8ACQgcSLCgQYEBEgYgwLChw4cQI0p8GKCixYsEMmrcyLGjx48cA4gcSZKAyZMoU6pcyTJlgJcwYxKYSbOmzZs4c9oMwLOnTwJAgwodSrSo0aEBkipdSqCp06dQo0qdCjWA1atYCWjdyrWr169guwYYS7YsgbNo06pdy7at2gBw48olQLeu3bt48+q9G6Cv378EAgseTLiw4cOEAyhezJiA48eQI0ueTDlygMuYMxPYzLmz58+gQ3sOQLq0aQKoU6tezbq169UBYsueTaC27du4c+vejTuA79/ACQgfTry48ePIiwdYzrw5gefQo0ufTr269ADYs2snwL279+/gw4v//x6gvPnzBNKrX8++vfv37APIn0+fgP37+PPr388/fwCAAQQOHEjA4EGECRUuZJgwwEOIEQlMpFjR4kWMGS0G4NjRIwGQIUWOJFnS5MgAKVWuJNDS5UuYMWXOhBnA5k2cBHTu5NnT50+gPQMMJVqUwFGkSZUuZdpUaQCoUaUSoFrV6lWsWbVeDdDV61cCYcWOJVvW7FmyAdSuZUvA7Vu4ceXOpRs3wF28eQns5dvX71/Agf0GIFzYMAHEiRUvZtzY8eIAkSVPJlDZ8mXMmTVvxhzA82fQBESPJl3a9GnUpQOsZt2awGvYsWXPpl17dgDcuXUT4N3b92/gwYX/DlDc//hxAsmVL2fe3Plz5gGkT6dOwPp17Nm1b+eePcB38OEJjCdf3vx59OnNB2Df3j0B+PHlz6df3/78APn17yfQ3z9AAgIHEixo8ODBAAoXMiTg8CHEiBInUowY4CLGjAQ2cuzo8SPIkB4DkCxpkgDKlCpXsmzpcmWAmDJnEqhp8ybOnDp34gzg8ydQAkKHEi1q9CjSogGWMm1K4CnUqFKnUq0qNQDWrFoJcO3q9SvYsGK/Bihr9iyBtGrXsm3r9i3bAHLn0iVg9y7evHr38s0b4C/gwAQGEy5s+DDixIYDMG7smADkyJInU65seXKAzJo3E+js+TPo0KJHgw5g+jRqAv+qV7Nu7fo17NYBZtOuTeA27ty6d/PurTsA8ODCCRAvbvw48uTKjwdo7vw5gejSp1Ovbv069QDat3Mn4P07+PDix5MPH+A8+vQE1rNv7/49/PjuA9Cvb58A/vz69/Pv7x8gAYECAxQ0eJBAQoULGTZ0+JBhAIkTKRKweBFjRo0bOWYM8BFkSAIjSZY0eRJlSpMBWLZ0SQBmTJkzada0OTNATp07CfT0+RNoUKFDgQYwehQpAaVLmTZ1+hRq0wBTqVYlcBVrVq1buXbVGgBsWLEEyJY1exZtWrVnA7R1+5ZAXLlz6da1e5duAL17+RLw+xdwYMGDCQcOcBhxYgKLGTf/dvwYcmTHAShXtkwAc2bNmzl39rw5QGjRowmUNn0adWrVq1EHcP0aNgHZs2nXtn0bd+0Au3n3JvAbeHDhw4kXFx4AeXLlBJg3d/4cenTpzwNUt36dQHbt27l39/6dewDx48kTMH8efXr169mrD/AefnwC8+nXt38ff377Afj39w+QgMCBBAsaPIiwYICFDBsSeAgxosSJFCtKDIAxo0YCHDt6/AgypMiPAUqaPEkgpcqVLFu6fMkygMyZNAnYvIkzp86dPHMG+Ak0KIGhRIsaPYo0qdEATJs6JQA1qtSpVKtanRogq9atBLp6/Qo2rNixYAOYPYuWgNq1bNu6fQu3/22AuXTrEriLN6/evXz76g0AOLBgAoQLGz6MOLHiwwEaO35MILLkyZQrW75MOYDmzZwJeP4MOrTo0aRDBziNOjWB1axbu34NO7brALRr2yaAO7fu3bx7+94dILjw4QSKGz+OPLny5cgDOH8OnYD06dSrW7+OvXqA7dy7E/gOPrz48eTLiw+APr16Auzbu38PP7789wHq279PIL/+/fz7+wdIQOBAggMDHESYkMBChg0dPoQY0WEAihUtEsCYUeNGjh09bgwQUuRIAiVNnkSZUuVKlAFcvoRJQOZMmjVt3sRZM8BOnj0J/AQaVOhQokWFBkCaVCkBpk2dPoUaVerTAP9VrV4lkFXrVq5dvX7lGkDsWLIEzJ5Fm1btWrZpA7yFG5fAXLp17d7Fm9duAL59/RIAHFjwYMKFDQ8OkFjxYgKNHT+GHFnyZMgBLF/GTEDzZs6dPX8G3TnAaNKlCZxGnVr1atatVQeAHVs2Adq1bd/GnVv37QC9ff8mEFz4cOLFjR8nHkD5cuYEnD+HHl06AQDVrV/Hfj3Adu7dAXwHH178eAIAzJ9Hnx59APbt3QOAH1/+fPoEANzHn19//gD9/QMMIDAAgIIGDyJMSAAAw4YOHzoMIHGAgAECBgQIAGAjx44ePxIAIHIkyZIkAwQQMEDAAAEDBAwAIHMmzZo2CQD/yKlzJ8+dAQYIGCBggIABAgYASKp0KdOmBABAjSp16lQBAwQMEDBAwAABAQCADSt27FgCAM6iTatW7QABAwQMEDBAwAABAO7izatXLwEAfv8CDhxYwAABAwQMEDBAQAAAjh9DjhyZAIDKli9jxjxAwAABAwQMEDAgAIDSpk+jRk0AAOvWrl+/DjBAwAABAwQMEBAAAO/evn//JgBgOPHixo0HCCBggIABAgJAByB9OvXq1QkAyK59O3fuAb5/ByB+PPny5skTAKB+Pfv27t/Dj9+eAID69u/jz69/P3/8BAACEDiQYEGDBxEmVLiQYUOFBABElDiRYkWLFzFSJACAlWNHjx9BhhQ58iMBACdRplS5kmVLlyoJAJA5k2ZNmzdx5qxJAEBPnz+BBhU6lChQAgCQJlW6lGlTp0+XEgAwlWpVq1exZtVqlQAAr1/BhhU7lmzZsAQApFW7lm1bt2/hsiUAgG5du3fx5tW79y4BAH8BBxY8mHBhw4IJAFC8mHFjx48hR25MAEBly5cxZ9a8mTNmAgEBADs=\"/>"
            ],
            "text/plain": [
              "<IPython.core.display.HTML object>"
            ]
          },
          "metadata": {},
          "execution_count": 13
        }
      ]
    },
    {
      "cell_type": "markdown",
      "source": [
        "https://keras.io/examples/rl/\n",
        "\n",
        "https://www.tensorflow.org/agents\n",
        "\n",
        "https://gym.openai.com/docs/\n",
        "\n",
        "http://www.derongliu.org/adp/adp-cdrom/Barto1983.pdf\n",
        "\n",
        "https://hal.inria.fr/hal-00840470/document\n",
        "\n",
        "https://www.youtube.com/watch?v=EKqxumCuAAY&list=PLkFD6_40KJIwhWJpGazJ9VSj9CFMkb79A&index=8"
      ],
      "metadata": {
        "id": "vEqSpZSZPyqq"
      }
    }
  ]
}